{
 "cells": [
  {
   "cell_type": "markdown",
   "id": "0162d65d",
   "metadata": {},
   "source": [
    "## Importing Libraries and Reading file"
   ]
  },
  {
   "cell_type": "code",
   "execution_count": 5,
   "id": "7e6e85ea",
   "metadata": {},
   "outputs": [],
   "source": [
    "import pandas as pd\n",
    "import numpy as np\n",
    "import matplotlib.pyplot as plt\n",
    "import seaborn as sns\n",
    "from warnings import filterwarnings\n",
    "filterwarnings('ignore')\n",
    "import pymongo\n",
    "import plotly.express as px"
   ]
  },
  {
   "cell_type": "code",
   "execution_count": 6,
   "id": "d8af6d02",
   "metadata": {},
   "outputs": [
    {
     "name": "stdout",
     "output_type": "stream",
     "text": [
      "scikit-learn version: 1.3.2\n"
     ]
    }
   ],
   "source": [
    "import sklearn\n",
    "print(\"scikit-learn version:\", sklearn.__version__)"
   ]
  },
  {
   "cell_type": "code",
   "execution_count": 7,
   "id": "4935f863",
   "metadata": {},
   "outputs": [],
   "source": [
    "df = pd.read_csv(\"CSV/Copper modeling.xlsx.csv\")"
   ]
  },
  {
   "cell_type": "code",
   "execution_count": 8,
   "id": "0e9d5cec",
   "metadata": {},
   "outputs": [
    {
     "data": {
      "text/html": [
       "<div>\n",
       "<style scoped>\n",
       "    .dataframe tbody tr th:only-of-type {\n",
       "        vertical-align: middle;\n",
       "    }\n",
       "\n",
       "    .dataframe tbody tr th {\n",
       "        vertical-align: top;\n",
       "    }\n",
       "\n",
       "    .dataframe thead th {\n",
       "        text-align: right;\n",
       "    }\n",
       "</style>\n",
       "<table border=\"1\" class=\"dataframe\">\n",
       "  <thead>\n",
       "    <tr style=\"text-align: right;\">\n",
       "      <th></th>\n",
       "      <th>id</th>\n",
       "      <th>item_date</th>\n",
       "      <th>quantity tons</th>\n",
       "      <th>customer</th>\n",
       "      <th>country</th>\n",
       "      <th>status</th>\n",
       "      <th>item type</th>\n",
       "      <th>application</th>\n",
       "      <th>thickness</th>\n",
       "      <th>width</th>\n",
       "      <th>material_ref</th>\n",
       "      <th>product_ref</th>\n",
       "      <th>delivery date</th>\n",
       "      <th>selling_price</th>\n",
       "    </tr>\n",
       "  </thead>\n",
       "  <tbody>\n",
       "    <tr>\n",
       "      <th>0</th>\n",
       "      <td>EC06F063-9DF0-440C-8764-0B0C05A4F6AE</td>\n",
       "      <td>20210401.0</td>\n",
       "      <td>54.151139</td>\n",
       "      <td>30156308.0</td>\n",
       "      <td>28.0</td>\n",
       "      <td>Won</td>\n",
       "      <td>W</td>\n",
       "      <td>10.0</td>\n",
       "      <td>2.00</td>\n",
       "      <td>1500.0</td>\n",
       "      <td>DEQ1 S460MC</td>\n",
       "      <td>1670798778</td>\n",
       "      <td>20210701.0</td>\n",
       "      <td>854.00</td>\n",
       "    </tr>\n",
       "    <tr>\n",
       "      <th>1</th>\n",
       "      <td>4E5F4B3D-DDDF-499D-AFDE-A3227EC49425</td>\n",
       "      <td>20210401.0</td>\n",
       "      <td>768.024839</td>\n",
       "      <td>30202938.0</td>\n",
       "      <td>25.0</td>\n",
       "      <td>Won</td>\n",
       "      <td>W</td>\n",
       "      <td>41.0</td>\n",
       "      <td>0.80</td>\n",
       "      <td>1210.0</td>\n",
       "      <td>104991</td>\n",
       "      <td>1668701718</td>\n",
       "      <td>20210401.0</td>\n",
       "      <td>1047.00</td>\n",
       "    </tr>\n",
       "    <tr>\n",
       "      <th>2</th>\n",
       "      <td>E140FF1B-2407-4C02-A0DD-780A093B1158</td>\n",
       "      <td>20210401.0</td>\n",
       "      <td>386.127949</td>\n",
       "      <td>30153963.0</td>\n",
       "      <td>30.0</td>\n",
       "      <td>Won</td>\n",
       "      <td>WI</td>\n",
       "      <td>28.0</td>\n",
       "      <td>0.38</td>\n",
       "      <td>952.0</td>\n",
       "      <td>S0380700</td>\n",
       "      <td>628377</td>\n",
       "      <td>20210101.0</td>\n",
       "      <td>644.33</td>\n",
       "    </tr>\n",
       "    <tr>\n",
       "      <th>3</th>\n",
       "      <td>F8D507A0-9C62-4EFE-831E-33E1DA53BB50</td>\n",
       "      <td>20210401.0</td>\n",
       "      <td>202.411065</td>\n",
       "      <td>30349574.0</td>\n",
       "      <td>32.0</td>\n",
       "      <td>Won</td>\n",
       "      <td>S</td>\n",
       "      <td>59.0</td>\n",
       "      <td>2.30</td>\n",
       "      <td>1317.0</td>\n",
       "      <td>DX51D+ZM310MAO 2.3X1317</td>\n",
       "      <td>1668701718</td>\n",
       "      <td>20210101.0</td>\n",
       "      <td>768.00</td>\n",
       "    </tr>\n",
       "    <tr>\n",
       "      <th>4</th>\n",
       "      <td>4E1C4E78-152B-430A-8094-ADD889C9D0AD</td>\n",
       "      <td>20210401.0</td>\n",
       "      <td>785.526262</td>\n",
       "      <td>30211560.0</td>\n",
       "      <td>28.0</td>\n",
       "      <td>Won</td>\n",
       "      <td>W</td>\n",
       "      <td>10.0</td>\n",
       "      <td>4.00</td>\n",
       "      <td>2000.0</td>\n",
       "      <td>2_S275JR+AR-CL1</td>\n",
       "      <td>640665</td>\n",
       "      <td>20210301.0</td>\n",
       "      <td>577.00</td>\n",
       "    </tr>\n",
       "    <tr>\n",
       "      <th>...</th>\n",
       "      <td>...</td>\n",
       "      <td>...</td>\n",
       "      <td>...</td>\n",
       "      <td>...</td>\n",
       "      <td>...</td>\n",
       "      <td>...</td>\n",
       "      <td>...</td>\n",
       "      <td>...</td>\n",
       "      <td>...</td>\n",
       "      <td>...</td>\n",
       "      <td>...</td>\n",
       "      <td>...</td>\n",
       "      <td>...</td>\n",
       "      <td>...</td>\n",
       "    </tr>\n",
       "    <tr>\n",
       "      <th>181668</th>\n",
       "      <td>DE633116-D1DF-4846-982E-55EFC3658A76</td>\n",
       "      <td>20200702.0</td>\n",
       "      <td>102.4824216</td>\n",
       "      <td>30200854.0</td>\n",
       "      <td>25.0</td>\n",
       "      <td>Won</td>\n",
       "      <td>W</td>\n",
       "      <td>41.0</td>\n",
       "      <td>0.96</td>\n",
       "      <td>1220.0</td>\n",
       "      <td>1000777</td>\n",
       "      <td>164141591</td>\n",
       "      <td>20200701.0</td>\n",
       "      <td>591.00</td>\n",
       "    </tr>\n",
       "    <tr>\n",
       "      <th>181669</th>\n",
       "      <td>A48374B1-E6DB-45F2-889A-1F9C27C099EB</td>\n",
       "      <td>20200702.0</td>\n",
       "      <td>208.0864686</td>\n",
       "      <td>30200854.0</td>\n",
       "      <td>25.0</td>\n",
       "      <td>Won</td>\n",
       "      <td>W</td>\n",
       "      <td>41.0</td>\n",
       "      <td>0.95</td>\n",
       "      <td>1500.0</td>\n",
       "      <td>1000227</td>\n",
       "      <td>164141591</td>\n",
       "      <td>20200701.0</td>\n",
       "      <td>589.00</td>\n",
       "    </tr>\n",
       "    <tr>\n",
       "      <th>181670</th>\n",
       "      <td>91643238-5C7B-4237-9A5F-63AE3D35F320</td>\n",
       "      <td>20200702.0</td>\n",
       "      <td>4.235593568</td>\n",
       "      <td>30200854.0</td>\n",
       "      <td>25.0</td>\n",
       "      <td>Won</td>\n",
       "      <td>W</td>\n",
       "      <td>41.0</td>\n",
       "      <td>0.71</td>\n",
       "      <td>1250.0</td>\n",
       "      <td>1004216</td>\n",
       "      <td>164141591</td>\n",
       "      <td>20200701.0</td>\n",
       "      <td>619.00</td>\n",
       "    </tr>\n",
       "    <tr>\n",
       "      <th>181671</th>\n",
       "      <td>7AFFD323-01D9-4E15-B80D-7D1B03498FC8</td>\n",
       "      <td>20200702.0</td>\n",
       "      <td>-2000</td>\n",
       "      <td>30200854.0</td>\n",
       "      <td>25.0</td>\n",
       "      <td>Won</td>\n",
       "      <td>W</td>\n",
       "      <td>41.0</td>\n",
       "      <td>0.85</td>\n",
       "      <td>1250.0</td>\n",
       "      <td>1001149</td>\n",
       "      <td>164141591</td>\n",
       "      <td>20200701.0</td>\n",
       "      <td>601.00</td>\n",
       "    </tr>\n",
       "    <tr>\n",
       "      <th>181672</th>\n",
       "      <td>AD0CA853-AE3C-4B2F-9FBB-8B0B965F84BC</td>\n",
       "      <td>20200702.0</td>\n",
       "      <td>406.6865384</td>\n",
       "      <td>30200854.0</td>\n",
       "      <td>25.0</td>\n",
       "      <td>Won</td>\n",
       "      <td>W</td>\n",
       "      <td>41.0</td>\n",
       "      <td>0.71</td>\n",
       "      <td>1240.0</td>\n",
       "      <td>1005439</td>\n",
       "      <td>164141591</td>\n",
       "      <td>20200701.0</td>\n",
       "      <td>607.00</td>\n",
       "    </tr>\n",
       "  </tbody>\n",
       "</table>\n",
       "<p>181673 rows × 14 columns</p>\n",
       "</div>"
      ],
      "text/plain": [
       "                                          id   item_date quantity tons  \\\n",
       "0       EC06F063-9DF0-440C-8764-0B0C05A4F6AE  20210401.0     54.151139   \n",
       "1       4E5F4B3D-DDDF-499D-AFDE-A3227EC49425  20210401.0    768.024839   \n",
       "2       E140FF1B-2407-4C02-A0DD-780A093B1158  20210401.0    386.127949   \n",
       "3       F8D507A0-9C62-4EFE-831E-33E1DA53BB50  20210401.0    202.411065   \n",
       "4       4E1C4E78-152B-430A-8094-ADD889C9D0AD  20210401.0    785.526262   \n",
       "...                                      ...         ...           ...   \n",
       "181668  DE633116-D1DF-4846-982E-55EFC3658A76  20200702.0   102.4824216   \n",
       "181669  A48374B1-E6DB-45F2-889A-1F9C27C099EB  20200702.0   208.0864686   \n",
       "181670  91643238-5C7B-4237-9A5F-63AE3D35F320  20200702.0   4.235593568   \n",
       "181671  7AFFD323-01D9-4E15-B80D-7D1B03498FC8  20200702.0         -2000   \n",
       "181672  AD0CA853-AE3C-4B2F-9FBB-8B0B965F84BC  20200702.0   406.6865384   \n",
       "\n",
       "          customer  country status item type  application  thickness   width  \\\n",
       "0       30156308.0     28.0    Won         W         10.0       2.00  1500.0   \n",
       "1       30202938.0     25.0    Won         W         41.0       0.80  1210.0   \n",
       "2       30153963.0     30.0    Won        WI         28.0       0.38   952.0   \n",
       "3       30349574.0     32.0    Won         S         59.0       2.30  1317.0   \n",
       "4       30211560.0     28.0    Won         W         10.0       4.00  2000.0   \n",
       "...            ...      ...    ...       ...          ...        ...     ...   \n",
       "181668  30200854.0     25.0    Won         W         41.0       0.96  1220.0   \n",
       "181669  30200854.0     25.0    Won         W         41.0       0.95  1500.0   \n",
       "181670  30200854.0     25.0    Won         W         41.0       0.71  1250.0   \n",
       "181671  30200854.0     25.0    Won         W         41.0       0.85  1250.0   \n",
       "181672  30200854.0     25.0    Won         W         41.0       0.71  1240.0   \n",
       "\n",
       "                   material_ref  product_ref  delivery date  selling_price  \n",
       "0                   DEQ1 S460MC   1670798778     20210701.0         854.00  \n",
       "1                        104991   1668701718     20210401.0        1047.00  \n",
       "2                      S0380700       628377     20210101.0         644.33  \n",
       "3       DX51D+ZM310MAO 2.3X1317   1668701718     20210101.0         768.00  \n",
       "4               2_S275JR+AR-CL1       640665     20210301.0         577.00  \n",
       "...                         ...          ...            ...            ...  \n",
       "181668                  1000777    164141591     20200701.0         591.00  \n",
       "181669                  1000227    164141591     20200701.0         589.00  \n",
       "181670                  1004216    164141591     20200701.0         619.00  \n",
       "181671                  1001149    164141591     20200701.0         601.00  \n",
       "181672                  1005439    164141591     20200701.0         607.00  \n",
       "\n",
       "[181673 rows x 14 columns]"
      ]
     },
     "execution_count": 8,
     "metadata": {},
     "output_type": "execute_result"
    }
   ],
   "source": [
    "df"
   ]
  },
  {
   "cell_type": "code",
   "execution_count": 9,
   "id": "879ee62f",
   "metadata": {},
   "outputs": [
    {
     "data": {
      "text/plain": [
       "(181673, 14)"
      ]
     },
     "execution_count": 9,
     "metadata": {},
     "output_type": "execute_result"
    }
   ],
   "source": [
    "df.shape"
   ]
  },
  {
   "cell_type": "code",
   "execution_count": 10,
   "id": "499a36b5",
   "metadata": {},
   "outputs": [
    {
     "name": "stdout",
     "output_type": "stream",
     "text": [
      "<class 'pandas.core.frame.DataFrame'>\n",
      "RangeIndex: 181673 entries, 0 to 181672\n",
      "Data columns (total 14 columns):\n",
      " #   Column         Non-Null Count   Dtype  \n",
      "---  ------         --------------   -----  \n",
      " 0   id             181671 non-null  object \n",
      " 1   item_date      181672 non-null  float64\n",
      " 2   quantity tons  181673 non-null  object \n",
      " 3   customer       181672 non-null  float64\n",
      " 4   country        181645 non-null  float64\n",
      " 5   status         181671 non-null  object \n",
      " 6   item type      181673 non-null  object \n",
      " 7   application    181649 non-null  float64\n",
      " 8   thickness      181672 non-null  float64\n",
      " 9   width          181673 non-null  float64\n",
      " 10  material_ref   103754 non-null  object \n",
      " 11  product_ref    181673 non-null  int64  \n",
      " 12  delivery date  181672 non-null  float64\n",
      " 13  selling_price  181672 non-null  float64\n",
      "dtypes: float64(8), int64(1), object(5)\n",
      "memory usage: 19.4+ MB\n"
     ]
    }
   ],
   "source": [
    "df.info()"
   ]
  },
  {
   "cell_type": "code",
   "execution_count": 11,
   "id": "475b6a86",
   "metadata": {},
   "outputs": [
    {
     "data": {
      "text/plain": [
       "id                   2\n",
       "item_date            1\n",
       "quantity tons        0\n",
       "customer             1\n",
       "country             28\n",
       "status               2\n",
       "item type            0\n",
       "application         24\n",
       "thickness            1\n",
       "width                0\n",
       "material_ref     77919\n",
       "product_ref          0\n",
       "delivery date        1\n",
       "selling_price        1\n",
       "dtype: int64"
      ]
     },
     "execution_count": 11,
     "metadata": {},
     "output_type": "execute_result"
    }
   ],
   "source": [
    "df.isnull().sum()"
   ]
  },
  {
   "cell_type": "code",
   "execution_count": 12,
   "id": "1330b420",
   "metadata": {},
   "outputs": [],
   "source": [
    "df.drop([\"material_ref\",\"id\",\"item_date\",\"delivery date\"],axis = True ,inplace =True)"
   ]
  },
  {
   "cell_type": "code",
   "execution_count": 13,
   "id": "828eb792",
   "metadata": {},
   "outputs": [
    {
     "data": {
      "text/plain": [
       "quantity tons     0\n",
       "customer          1\n",
       "country          28\n",
       "status            2\n",
       "item type         0\n",
       "application      24\n",
       "thickness         1\n",
       "width             0\n",
       "product_ref       0\n",
       "selling_price     1\n",
       "dtype: int64"
      ]
     },
     "execution_count": 13,
     "metadata": {},
     "output_type": "execute_result"
    }
   ],
   "source": [
    "df.isnull().sum()"
   ]
  },
  {
   "cell_type": "markdown",
   "id": "7f8c0287",
   "metadata": {},
   "source": [
    "## Handling Unformatted Data"
   ]
  },
  {
   "cell_type": "code",
   "execution_count": 14,
   "id": "d3231232",
   "metadata": {},
   "outputs": [
    {
     "data": {
      "text/html": [
       "<div>\n",
       "<style scoped>\n",
       "    .dataframe tbody tr th:only-of-type {\n",
       "        vertical-align: middle;\n",
       "    }\n",
       "\n",
       "    .dataframe tbody tr th {\n",
       "        vertical-align: top;\n",
       "    }\n",
       "\n",
       "    .dataframe thead th {\n",
       "        text-align: right;\n",
       "    }\n",
       "</style>\n",
       "<table border=\"1\" class=\"dataframe\">\n",
       "  <thead>\n",
       "    <tr style=\"text-align: right;\">\n",
       "      <th></th>\n",
       "      <th>quantity tons</th>\n",
       "      <th>customer</th>\n",
       "      <th>country</th>\n",
       "      <th>status</th>\n",
       "      <th>item type</th>\n",
       "      <th>application</th>\n",
       "      <th>thickness</th>\n",
       "      <th>width</th>\n",
       "      <th>product_ref</th>\n",
       "      <th>selling_price</th>\n",
       "    </tr>\n",
       "  </thead>\n",
       "  <tbody>\n",
       "    <tr>\n",
       "      <th>0</th>\n",
       "      <td>54.151139</td>\n",
       "      <td>30156308.0</td>\n",
       "      <td>28.0</td>\n",
       "      <td>Won</td>\n",
       "      <td>W</td>\n",
       "      <td>10.0</td>\n",
       "      <td>2.00</td>\n",
       "      <td>1500.0</td>\n",
       "      <td>1670798778</td>\n",
       "      <td>854.00</td>\n",
       "    </tr>\n",
       "    <tr>\n",
       "      <th>1</th>\n",
       "      <td>768.024839</td>\n",
       "      <td>30202938.0</td>\n",
       "      <td>25.0</td>\n",
       "      <td>Won</td>\n",
       "      <td>W</td>\n",
       "      <td>41.0</td>\n",
       "      <td>0.80</td>\n",
       "      <td>1210.0</td>\n",
       "      <td>1668701718</td>\n",
       "      <td>1047.00</td>\n",
       "    </tr>\n",
       "    <tr>\n",
       "      <th>2</th>\n",
       "      <td>386.127949</td>\n",
       "      <td>30153963.0</td>\n",
       "      <td>30.0</td>\n",
       "      <td>Won</td>\n",
       "      <td>WI</td>\n",
       "      <td>28.0</td>\n",
       "      <td>0.38</td>\n",
       "      <td>952.0</td>\n",
       "      <td>628377</td>\n",
       "      <td>644.33</td>\n",
       "    </tr>\n",
       "    <tr>\n",
       "      <th>3</th>\n",
       "      <td>202.411065</td>\n",
       "      <td>30349574.0</td>\n",
       "      <td>32.0</td>\n",
       "      <td>Won</td>\n",
       "      <td>S</td>\n",
       "      <td>59.0</td>\n",
       "      <td>2.30</td>\n",
       "      <td>1317.0</td>\n",
       "      <td>1668701718</td>\n",
       "      <td>768.00</td>\n",
       "    </tr>\n",
       "    <tr>\n",
       "      <th>4</th>\n",
       "      <td>785.526262</td>\n",
       "      <td>30211560.0</td>\n",
       "      <td>28.0</td>\n",
       "      <td>Won</td>\n",
       "      <td>W</td>\n",
       "      <td>10.0</td>\n",
       "      <td>4.00</td>\n",
       "      <td>2000.0</td>\n",
       "      <td>640665</td>\n",
       "      <td>577.00</td>\n",
       "    </tr>\n",
       "  </tbody>\n",
       "</table>\n",
       "</div>"
      ],
      "text/plain": [
       "  quantity tons    customer  country status item type  application  thickness  \\\n",
       "0     54.151139  30156308.0     28.0    Won         W         10.0       2.00   \n",
       "1    768.024839  30202938.0     25.0    Won         W         41.0       0.80   \n",
       "2    386.127949  30153963.0     30.0    Won        WI         28.0       0.38   \n",
       "3    202.411065  30349574.0     32.0    Won         S         59.0       2.30   \n",
       "4    785.526262  30211560.0     28.0    Won         W         10.0       4.00   \n",
       "\n",
       "    width  product_ref  selling_price  \n",
       "0  1500.0   1670798778         854.00  \n",
       "1  1210.0   1668701718        1047.00  \n",
       "2   952.0       628377         644.33  \n",
       "3  1317.0   1668701718         768.00  \n",
       "4  2000.0       640665         577.00  "
      ]
     },
     "execution_count": 14,
     "metadata": {},
     "output_type": "execute_result"
    }
   ],
   "source": [
    "df.head()"
   ]
  },
  {
   "cell_type": "code",
   "execution_count": 15,
   "id": "1bf3760d",
   "metadata": {},
   "outputs": [
    {
     "data": {
      "text/plain": [
       "quantity tons     object\n",
       "customer         float64\n",
       "country          float64\n",
       "status            object\n",
       "item type         object\n",
       "application      float64\n",
       "thickness        float64\n",
       "width            float64\n",
       "product_ref        int64\n",
       "selling_price    float64\n",
       "dtype: object"
      ]
     },
     "execution_count": 15,
     "metadata": {},
     "output_type": "execute_result"
    }
   ],
   "source": [
    "df.dtypes"
   ]
  },
  {
   "cell_type": "code",
   "execution_count": 16,
   "id": "7dbd5c98",
   "metadata": {},
   "outputs": [],
   "source": [
    "# errors='coerce' ---> If Any column cannot be converted to a numeric type, Pandas will replace that value with NaN\n",
    "df['quantity tons'] = pd.to_numeric(df['quantity tons'], errors='coerce')\n",
    "df['customer'] = pd.to_numeric(df['customer'], errors='coerce')\n",
    "df['country'] = pd.to_numeric(df['country'], errors='coerce')\n",
    "df['application'] = pd.to_numeric(df['application'], errors='coerce')\n",
    "df['thickness'] = pd.to_numeric(df['thickness'], errors='coerce')\n",
    "df['width'] = pd.to_numeric(df['width'], errors='coerce')\n",
    "df['product_ref'] = pd.to_numeric(df['product_ref'], errors='coerce')\n",
    "df['selling_price'] = pd.to_numeric(df['selling_price'], errors='coerce')"
   ]
  },
  {
   "cell_type": "code",
   "execution_count": 17,
   "id": "f2591701",
   "metadata": {},
   "outputs": [
    {
     "data": {
      "text/plain": [
       "quantity tons     1\n",
       "customer          1\n",
       "country          28\n",
       "status            2\n",
       "item type         0\n",
       "application      24\n",
       "thickness         1\n",
       "width             0\n",
       "product_ref       0\n",
       "selling_price     1\n",
       "dtype: int64"
      ]
     },
     "execution_count": 17,
     "metadata": {},
     "output_type": "execute_result"
    }
   ],
   "source": [
    "df.isnull().sum()"
   ]
  },
  {
   "cell_type": "markdown",
   "id": "f928b832",
   "metadata": {},
   "source": [
    "## Statistical Information"
   ]
  },
  {
   "cell_type": "code",
   "execution_count": 18,
   "id": "742eca81",
   "metadata": {},
   "outputs": [
    {
     "data": {
      "text/html": [
       "<div>\n",
       "<style scoped>\n",
       "    .dataframe tbody tr th:only-of-type {\n",
       "        vertical-align: middle;\n",
       "    }\n",
       "\n",
       "    .dataframe tbody tr th {\n",
       "        vertical-align: top;\n",
       "    }\n",
       "\n",
       "    .dataframe thead th {\n",
       "        text-align: right;\n",
       "    }\n",
       "</style>\n",
       "<table border=\"1\" class=\"dataframe\">\n",
       "  <thead>\n",
       "    <tr style=\"text-align: right;\">\n",
       "      <th></th>\n",
       "      <th>count</th>\n",
       "      <th>mean</th>\n",
       "      <th>std</th>\n",
       "      <th>min</th>\n",
       "      <th>25%</th>\n",
       "      <th>50%</th>\n",
       "      <th>75%</th>\n",
       "      <th>max</th>\n",
       "    </tr>\n",
       "  </thead>\n",
       "  <tbody>\n",
       "    <tr>\n",
       "      <th>quantity tons</th>\n",
       "      <td>181672.0</td>\n",
       "      <td>5.874926e+03</td>\n",
       "      <td>2.349081e+06</td>\n",
       "      <td>-2000.00</td>\n",
       "      <td>1.097030e+01</td>\n",
       "      <td>3.036464e+01</td>\n",
       "      <td>6.716061e+01</td>\n",
       "      <td>1.000000e+09</td>\n",
       "    </tr>\n",
       "    <tr>\n",
       "      <th>customer</th>\n",
       "      <td>181672.0</td>\n",
       "      <td>3.051221e+07</td>\n",
       "      <td>2.433382e+07</td>\n",
       "      <td>12458.00</td>\n",
       "      <td>3.019688e+07</td>\n",
       "      <td>3.020524e+07</td>\n",
       "      <td>3.028042e+07</td>\n",
       "      <td>2.147484e+09</td>\n",
       "    </tr>\n",
       "    <tr>\n",
       "      <th>country</th>\n",
       "      <td>181645.0</td>\n",
       "      <td>4.489302e+01</td>\n",
       "      <td>2.440421e+01</td>\n",
       "      <td>25.00</td>\n",
       "      <td>2.600000e+01</td>\n",
       "      <td>3.000000e+01</td>\n",
       "      <td>7.800000e+01</td>\n",
       "      <td>1.130000e+02</td>\n",
       "    </tr>\n",
       "    <tr>\n",
       "      <th>application</th>\n",
       "      <td>181649.0</td>\n",
       "      <td>2.561581e+01</td>\n",
       "      <td>1.775417e+01</td>\n",
       "      <td>2.00</td>\n",
       "      <td>1.000000e+01</td>\n",
       "      <td>1.500000e+01</td>\n",
       "      <td>4.100000e+01</td>\n",
       "      <td>9.900000e+01</td>\n",
       "    </tr>\n",
       "    <tr>\n",
       "      <th>thickness</th>\n",
       "      <td>181672.0</td>\n",
       "      <td>2.564827e+00</td>\n",
       "      <td>6.572321e+00</td>\n",
       "      <td>0.18</td>\n",
       "      <td>7.000000e-01</td>\n",
       "      <td>1.500000e+00</td>\n",
       "      <td>3.000000e+00</td>\n",
       "      <td>2.500000e+03</td>\n",
       "    </tr>\n",
       "    <tr>\n",
       "      <th>width</th>\n",
       "      <td>181673.0</td>\n",
       "      <td>1.295287e+03</td>\n",
       "      <td>2.616318e+02</td>\n",
       "      <td>1.00</td>\n",
       "      <td>1.180000e+03</td>\n",
       "      <td>1.250000e+03</td>\n",
       "      <td>1.500000e+03</td>\n",
       "      <td>2.990000e+03</td>\n",
       "    </tr>\n",
       "    <tr>\n",
       "      <th>product_ref</th>\n",
       "      <td>181673.0</td>\n",
       "      <td>4.739679e+08</td>\n",
       "      <td>7.175101e+08</td>\n",
       "      <td>611728.00</td>\n",
       "      <td>6.119930e+05</td>\n",
       "      <td>6.406650e+05</td>\n",
       "      <td>1.332077e+09</td>\n",
       "      <td>1.722208e+09</td>\n",
       "    </tr>\n",
       "    <tr>\n",
       "      <th>selling_price</th>\n",
       "      <td>181672.0</td>\n",
       "      <td>1.918036e+03</td>\n",
       "      <td>3.317956e+05</td>\n",
       "      <td>-1160.00</td>\n",
       "      <td>6.690000e+02</td>\n",
       "      <td>8.120000e+02</td>\n",
       "      <td>9.530000e+02</td>\n",
       "      <td>1.000010e+08</td>\n",
       "    </tr>\n",
       "  </tbody>\n",
       "</table>\n",
       "</div>"
      ],
      "text/plain": [
       "                  count          mean           std        min           25%  \\\n",
       "quantity tons  181672.0  5.874926e+03  2.349081e+06   -2000.00  1.097030e+01   \n",
       "customer       181672.0  3.051221e+07  2.433382e+07   12458.00  3.019688e+07   \n",
       "country        181645.0  4.489302e+01  2.440421e+01      25.00  2.600000e+01   \n",
       "application    181649.0  2.561581e+01  1.775417e+01       2.00  1.000000e+01   \n",
       "thickness      181672.0  2.564827e+00  6.572321e+00       0.18  7.000000e-01   \n",
       "width          181673.0  1.295287e+03  2.616318e+02       1.00  1.180000e+03   \n",
       "product_ref    181673.0  4.739679e+08  7.175101e+08  611728.00  6.119930e+05   \n",
       "selling_price  181672.0  1.918036e+03  3.317956e+05   -1160.00  6.690000e+02   \n",
       "\n",
       "                        50%           75%           max  \n",
       "quantity tons  3.036464e+01  6.716061e+01  1.000000e+09  \n",
       "customer       3.020524e+07  3.028042e+07  2.147484e+09  \n",
       "country        3.000000e+01  7.800000e+01  1.130000e+02  \n",
       "application    1.500000e+01  4.100000e+01  9.900000e+01  \n",
       "thickness      1.500000e+00  3.000000e+00  2.500000e+03  \n",
       "width          1.250000e+03  1.500000e+03  2.990000e+03  \n",
       "product_ref    6.406650e+05  1.332077e+09  1.722208e+09  \n",
       "selling_price  8.120000e+02  9.530000e+02  1.000010e+08  "
      ]
     },
     "execution_count": 18,
     "metadata": {},
     "output_type": "execute_result"
    }
   ],
   "source": [
    "df.describe().T"
   ]
  },
  {
   "cell_type": "code",
   "execution_count": 19,
   "id": "cd33c29a",
   "metadata": {},
   "outputs": [
    {
     "data": {
      "text/html": [
       "<div>\n",
       "<style scoped>\n",
       "    .dataframe tbody tr th:only-of-type {\n",
       "        vertical-align: middle;\n",
       "    }\n",
       "\n",
       "    .dataframe tbody tr th {\n",
       "        vertical-align: top;\n",
       "    }\n",
       "\n",
       "    .dataframe thead th {\n",
       "        text-align: right;\n",
       "    }\n",
       "</style>\n",
       "<table border=\"1\" class=\"dataframe\">\n",
       "  <thead>\n",
       "    <tr style=\"text-align: right;\">\n",
       "      <th></th>\n",
       "      <th>count</th>\n",
       "      <th>mean</th>\n",
       "      <th>std</th>\n",
       "      <th>min</th>\n",
       "      <th>25%</th>\n",
       "      <th>50%</th>\n",
       "      <th>75%</th>\n",
       "      <th>max</th>\n",
       "    </tr>\n",
       "  </thead>\n",
       "  <tbody>\n",
       "    <tr>\n",
       "      <th>quantity tons</th>\n",
       "      <td>181668.0</td>\n",
       "      <td>5.875066e+03</td>\n",
       "      <td>2.349107e+06</td>\n",
       "      <td>0.00001</td>\n",
       "      <td>1.097122e+01</td>\n",
       "      <td>3.036501e+01</td>\n",
       "      <td>6.716134e+01</td>\n",
       "      <td>1.000000e+09</td>\n",
       "    </tr>\n",
       "    <tr>\n",
       "      <th>customer</th>\n",
       "      <td>181672.0</td>\n",
       "      <td>3.051221e+07</td>\n",
       "      <td>2.433382e+07</td>\n",
       "      <td>12458.00000</td>\n",
       "      <td>3.019688e+07</td>\n",
       "      <td>3.020524e+07</td>\n",
       "      <td>3.028042e+07</td>\n",
       "      <td>2.147484e+09</td>\n",
       "    </tr>\n",
       "    <tr>\n",
       "      <th>country</th>\n",
       "      <td>181645.0</td>\n",
       "      <td>4.489302e+01</td>\n",
       "      <td>2.440421e+01</td>\n",
       "      <td>25.00000</td>\n",
       "      <td>2.600000e+01</td>\n",
       "      <td>3.000000e+01</td>\n",
       "      <td>7.800000e+01</td>\n",
       "      <td>1.130000e+02</td>\n",
       "    </tr>\n",
       "    <tr>\n",
       "      <th>application</th>\n",
       "      <td>181649.0</td>\n",
       "      <td>2.561581e+01</td>\n",
       "      <td>1.775417e+01</td>\n",
       "      <td>2.00000</td>\n",
       "      <td>1.000000e+01</td>\n",
       "      <td>1.500000e+01</td>\n",
       "      <td>4.100000e+01</td>\n",
       "      <td>9.900000e+01</td>\n",
       "    </tr>\n",
       "    <tr>\n",
       "      <th>thickness</th>\n",
       "      <td>181672.0</td>\n",
       "      <td>2.564827e+00</td>\n",
       "      <td>6.572321e+00</td>\n",
       "      <td>0.18000</td>\n",
       "      <td>7.000000e-01</td>\n",
       "      <td>1.500000e+00</td>\n",
       "      <td>3.000000e+00</td>\n",
       "      <td>2.500000e+03</td>\n",
       "    </tr>\n",
       "    <tr>\n",
       "      <th>width</th>\n",
       "      <td>181673.0</td>\n",
       "      <td>1.295287e+03</td>\n",
       "      <td>2.616318e+02</td>\n",
       "      <td>1.00000</td>\n",
       "      <td>1.180000e+03</td>\n",
       "      <td>1.250000e+03</td>\n",
       "      <td>1.500000e+03</td>\n",
       "      <td>2.990000e+03</td>\n",
       "    </tr>\n",
       "    <tr>\n",
       "      <th>product_ref</th>\n",
       "      <td>181673.0</td>\n",
       "      <td>4.739679e+08</td>\n",
       "      <td>7.175101e+08</td>\n",
       "      <td>611728.00000</td>\n",
       "      <td>6.119930e+05</td>\n",
       "      <td>6.406650e+05</td>\n",
       "      <td>1.332077e+09</td>\n",
       "      <td>1.722208e+09</td>\n",
       "    </tr>\n",
       "    <tr>\n",
       "      <th>selling_price</th>\n",
       "      <td>181665.0</td>\n",
       "      <td>1.918124e+03</td>\n",
       "      <td>3.318020e+05</td>\n",
       "      <td>0.10000</td>\n",
       "      <td>6.690000e+02</td>\n",
       "      <td>8.120000e+02</td>\n",
       "      <td>9.530000e+02</td>\n",
       "      <td>1.000010e+08</td>\n",
       "    </tr>\n",
       "  </tbody>\n",
       "</table>\n",
       "</div>"
      ],
      "text/plain": [
       "                  count          mean           std           min  \\\n",
       "quantity tons  181668.0  5.875066e+03  2.349107e+06       0.00001   \n",
       "customer       181672.0  3.051221e+07  2.433382e+07   12458.00000   \n",
       "country        181645.0  4.489302e+01  2.440421e+01      25.00000   \n",
       "application    181649.0  2.561581e+01  1.775417e+01       2.00000   \n",
       "thickness      181672.0  2.564827e+00  6.572321e+00       0.18000   \n",
       "width          181673.0  1.295287e+03  2.616318e+02       1.00000   \n",
       "product_ref    181673.0  4.739679e+08  7.175101e+08  611728.00000   \n",
       "selling_price  181665.0  1.918124e+03  3.318020e+05       0.10000   \n",
       "\n",
       "                        25%           50%           75%           max  \n",
       "quantity tons  1.097122e+01  3.036501e+01  6.716134e+01  1.000000e+09  \n",
       "customer       3.019688e+07  3.020524e+07  3.028042e+07  2.147484e+09  \n",
       "country        2.600000e+01  3.000000e+01  7.800000e+01  1.130000e+02  \n",
       "application    1.000000e+01  1.500000e+01  4.100000e+01  9.900000e+01  \n",
       "thickness      7.000000e-01  1.500000e+00  3.000000e+00  2.500000e+03  \n",
       "width          1.180000e+03  1.250000e+03  1.500000e+03  2.990000e+03  \n",
       "product_ref    6.119930e+05  6.406650e+05  1.332077e+09  1.722208e+09  \n",
       "selling_price  6.690000e+02  8.120000e+02  9.530000e+02  1.000010e+08  "
      ]
     },
     "execution_count": 19,
     "metadata": {},
     "output_type": "execute_result"
    }
   ],
   "source": [
    "# quantity and selling price values sholud not be below 0. so we converting 0 to null value.\n",
    "df['quantity tons'] = df['quantity tons'].apply(lambda x: np.nan if x<=0 else x)\n",
    "df['selling_price'] = df['selling_price'].apply(lambda x: np.nan if x<=0 else x)\n",
    "df.describe().T    "
   ]
  },
  {
   "cell_type": "markdown",
   "id": "6da1025a",
   "metadata": {},
   "source": [
    "## Imputing Missing values"
   ]
  },
  {
   "cell_type": "code",
   "execution_count": 20,
   "id": "b26f3686",
   "metadata": {},
   "outputs": [
    {
     "data": {
      "text/plain": [
       "quantity tons     5\n",
       "customer          1\n",
       "country          28\n",
       "status            2\n",
       "item type         0\n",
       "application      24\n",
       "thickness         1\n",
       "width             0\n",
       "product_ref       0\n",
       "selling_price     8\n",
       "dtype: int64"
      ]
     },
     "execution_count": 20,
     "metadata": {},
     "output_type": "execute_result"
    }
   ],
   "source": [
    "df.isnull().sum()"
   ]
  },
  {
   "cell_type": "code",
   "execution_count": 21,
   "id": "2d12ac2a",
   "metadata": {},
   "outputs": [
    {
     "data": {
      "text/plain": [
       "quantity tons    0.000028\n",
       "customer         0.000006\n",
       "country          0.000154\n",
       "status           0.000011\n",
       "item type        0.000000\n",
       "application      0.000132\n",
       "thickness        0.000006\n",
       "width            0.000000\n",
       "product_ref      0.000000\n",
       "selling_price    0.000044\n",
       "dtype: float64"
      ]
     },
     "execution_count": 21,
     "metadata": {},
     "output_type": "execute_result"
    }
   ],
   "source": [
    "df.isnull().sum()/df.isnull().count().sort_values(ascending=False)"
   ]
  },
  {
   "cell_type": "code",
   "execution_count": 22,
   "id": "7aa1f341",
   "metadata": {},
   "outputs": [
    {
     "data": {
      "text/plain": [
       "<Axes: >"
      ]
     },
     "execution_count": 22,
     "metadata": {},
     "output_type": "execute_result"
    },
    {
     "data": {
      "image/png": "[encoded data removed]",
      "text/plain": [
       "<Figure size 640x480 with 1 Axes>"
      ]
     },
     "metadata": {},
     "output_type": "display_data"
    }
   ],
   "source": [
    "sns.boxplot(data=df,orient='h')"
   ]
  },
  {
   "cell_type": "code",
   "execution_count": 23,
   "id": "b7edd303",
   "metadata": {},
   "outputs": [],
   "source": [
    "# drop the null rows \n",
    "df=df.dropna()"
   ]
  },
  {
   "cell_type": "code",
   "execution_count": 24,
   "id": "bb71dec1",
   "metadata": {},
   "outputs": [
    {
     "data": {
      "text/plain": [
       "quantity tons    0\n",
       "customer         0\n",
       "country          0\n",
       "status           0\n",
       "item type        0\n",
       "application      0\n",
       "thickness        0\n",
       "width            0\n",
       "product_ref      0\n",
       "selling_price    0\n",
       "dtype: int64"
      ]
     },
     "execution_count": 24,
     "metadata": {},
     "output_type": "execute_result"
    }
   ],
   "source": [
    "df.isnull().sum()"
   ]
  },
  {
   "cell_type": "code",
   "execution_count": 25,
   "id": "6a51f42a",
   "metadata": {},
   "outputs": [
    {
     "data": {
      "text/plain": [
       "(181628, 10)"
      ]
     },
     "execution_count": 25,
     "metadata": {},
     "output_type": "execute_result"
    }
   ],
   "source": [
    "df.shape"
   ]
  },
  {
   "cell_type": "markdown",
   "id": "9dfa02ce",
   "metadata": {},
   "source": [
    "## Visualization"
   ]
  },
  {
   "cell_type": "code",
   "execution_count": 26,
   "id": "8722d1bf",
   "metadata": {},
   "outputs": [],
   "source": [
    "# sns.pairplot(df,diag_kind='kde')"
   ]
  },
  {
   "cell_type": "code",
   "execution_count": 27,
   "id": "9cc90223",
   "metadata": {},
   "outputs": [
    {
     "data": {
      "text/plain": [
       "Index(['quantity tons', 'customer', 'country', 'status', 'item type',\n",
       "       'application', 'thickness', 'width', 'product_ref', 'selling_price'],\n",
       "      dtype='object')"
      ]
     },
     "execution_count": 27,
     "metadata": {},
     "output_type": "execute_result"
    }
   ],
   "source": [
    "df.columns"
   ]
  },
  {
   "cell_type": "code",
   "execution_count": 28,
   "id": "7b81bae1",
   "metadata": {},
   "outputs": [
    {
     "data": {
      "image/png": "[encoded data removed]",
      "text/plain": [
       "<Figure size 1000x800 with 2 Axes>"
      ]
     },
     "metadata": {},
     "output_type": "display_data"
    }
   ],
   "source": [
    "#get correlations of each features in dataset\n",
    "selected_columns = ['quantity tons', 'customer', 'country', 'application', 'thickness', 'width', 'product_ref', 'selling_price']\n",
    "subset_df = df[selected_columns]\n",
    "corr_matrix = subset_df.corr()\n",
    "plt.figure(figsize=(10, 8))\n",
    "sns.heatmap(corr_matrix, annot=True, cmap='coolwarm', fmt=\".2f\", linewidths=.5)\n",
    "plt.show()"
   ]
  },
  {
   "cell_type": "markdown",
   "id": "f0f15597",
   "metadata": {},
   "source": [
    "## Skewness Detection And Data Transformation(Log transformation)"
   ]
  },
  {
   "cell_type": "code",
   "execution_count": 29,
   "id": "f53eed39",
   "metadata": {
    "scrolled": true
   },
   "outputs": [
    {
     "data": {
      "text/plain": [
       "Text(0.5, 1.0, 'product_ref Boxplot')"
      ]
     },
     "execution_count": 29,
     "metadata": {},
     "output_type": "execute_result"
    },
    {
     "data": {
      "image/png": "[encoded data removed]",
      "text/plain": [
       "<Figure size 1200x1000 with 6 Axes>"
      ]
     },
     "metadata": {},
     "output_type": "display_data"
    }
   ],
   "source": [
    "fig, axes = plt.subplots(nrows=3,ncols=2)\n",
    "fig.set_size_inches(12, 10)\n",
    "plt.tight_layout()\n",
    "\n",
    "a = sns.distplot(df['quantity tons'] , ax=axes[0][0])\n",
    "a = sns.boxplot(df['quantity tons'] , orient = \"h\" , ax=axes[0][1])\n",
    "a.set_title(\"quantity tons Boxplot\",fontsize=12)\n",
    "\n",
    "\n",
    "a = sns.distplot(df['thickness'] , ax=axes[1][0])\n",
    "a = sns.boxplot(df['thickness'] , orient = \"h\" , ax=axes[1][1])\n",
    "a.set_title(\"thickness Boxplot\",fontsize=12)\n",
    "\n",
    "a = sns.distplot(df['product_ref'] , ax=axes[2][0])\n",
    "a = sns.boxplot(df['product_ref'] , orient = \"h\" , ax=axes[2][1])\n",
    "a.set_title(\"product_ref Boxplot\",fontsize=12)\n"
   ]
  },
  {
   "cell_type": "code",
   "execution_count": 30,
   "id": "7a980953",
   "metadata": {},
   "outputs": [
    {
     "data": {
      "text/plain": [
       "Index(['quantity tons', 'customer', 'country', 'status', 'item type',\n",
       "       'application', 'thickness', 'width', 'product_ref', 'selling_price'],\n",
       "      dtype='object')"
      ]
     },
     "execution_count": 30,
     "metadata": {},
     "output_type": "execute_result"
    }
   ],
   "source": [
    "df.columns"
   ]
  },
  {
   "cell_type": "code",
   "execution_count": 31,
   "id": "1fd0b9d0",
   "metadata": {},
   "outputs": [],
   "source": [
    "df['selling_price_log'] = np.log(df['selling_price'])"
   ]
  },
  {
   "cell_type": "code",
   "execution_count": 32,
   "id": "6b2022e7",
   "metadata": {},
   "outputs": [
    {
     "data": {
      "text/html": [
       "<div>\n",
       "<style scoped>\n",
       "    .dataframe tbody tr th:only-of-type {\n",
       "        vertical-align: middle;\n",
       "    }\n",
       "\n",
       "    .dataframe tbody tr th {\n",
       "        vertical-align: top;\n",
       "    }\n",
       "\n",
       "    .dataframe thead th {\n",
       "        text-align: right;\n",
       "    }\n",
       "</style>\n",
       "<table border=\"1\" class=\"dataframe\">\n",
       "  <thead>\n",
       "    <tr style=\"text-align: right;\">\n",
       "      <th></th>\n",
       "      <th>quantity tons</th>\n",
       "      <th>customer</th>\n",
       "      <th>country</th>\n",
       "      <th>status</th>\n",
       "      <th>item type</th>\n",
       "      <th>application</th>\n",
       "      <th>thickness</th>\n",
       "      <th>width</th>\n",
       "      <th>product_ref</th>\n",
       "      <th>selling_price</th>\n",
       "      <th>selling_price_log</th>\n",
       "    </tr>\n",
       "  </thead>\n",
       "  <tbody>\n",
       "    <tr>\n",
       "      <th>0</th>\n",
       "      <td>54.151139</td>\n",
       "      <td>30156308.0</td>\n",
       "      <td>28.0</td>\n",
       "      <td>Won</td>\n",
       "      <td>W</td>\n",
       "      <td>10.0</td>\n",
       "      <td>2.00</td>\n",
       "      <td>1500.0</td>\n",
       "      <td>1670798778</td>\n",
       "      <td>854.00</td>\n",
       "      <td>6.749931</td>\n",
       "    </tr>\n",
       "    <tr>\n",
       "      <th>1</th>\n",
       "      <td>768.024839</td>\n",
       "      <td>30202938.0</td>\n",
       "      <td>25.0</td>\n",
       "      <td>Won</td>\n",
       "      <td>W</td>\n",
       "      <td>41.0</td>\n",
       "      <td>0.80</td>\n",
       "      <td>1210.0</td>\n",
       "      <td>1668701718</td>\n",
       "      <td>1047.00</td>\n",
       "      <td>6.953684</td>\n",
       "    </tr>\n",
       "    <tr>\n",
       "      <th>2</th>\n",
       "      <td>386.127949</td>\n",
       "      <td>30153963.0</td>\n",
       "      <td>30.0</td>\n",
       "      <td>Won</td>\n",
       "      <td>WI</td>\n",
       "      <td>28.0</td>\n",
       "      <td>0.38</td>\n",
       "      <td>952.0</td>\n",
       "      <td>628377</td>\n",
       "      <td>644.33</td>\n",
       "      <td>6.468211</td>\n",
       "    </tr>\n",
       "    <tr>\n",
       "      <th>3</th>\n",
       "      <td>202.411065</td>\n",
       "      <td>30349574.0</td>\n",
       "      <td>32.0</td>\n",
       "      <td>Won</td>\n",
       "      <td>S</td>\n",
       "      <td>59.0</td>\n",
       "      <td>2.30</td>\n",
       "      <td>1317.0</td>\n",
       "      <td>1668701718</td>\n",
       "      <td>768.00</td>\n",
       "      <td>6.643790</td>\n",
       "    </tr>\n",
       "    <tr>\n",
       "      <th>4</th>\n",
       "      <td>785.526262</td>\n",
       "      <td>30211560.0</td>\n",
       "      <td>28.0</td>\n",
       "      <td>Won</td>\n",
       "      <td>W</td>\n",
       "      <td>10.0</td>\n",
       "      <td>4.00</td>\n",
       "      <td>2000.0</td>\n",
       "      <td>640665</td>\n",
       "      <td>577.00</td>\n",
       "      <td>6.357842</td>\n",
       "    </tr>\n",
       "  </tbody>\n",
       "</table>\n",
       "</div>"
      ],
      "text/plain": [
       "   quantity tons    customer  country status item type  application  \\\n",
       "0      54.151139  30156308.0     28.0    Won         W         10.0   \n",
       "1     768.024839  30202938.0     25.0    Won         W         41.0   \n",
       "2     386.127949  30153963.0     30.0    Won        WI         28.0   \n",
       "3     202.411065  30349574.0     32.0    Won         S         59.0   \n",
       "4     785.526262  30211560.0     28.0    Won         W         10.0   \n",
       "\n",
       "   thickness   width  product_ref  selling_price  selling_price_log  \n",
       "0       2.00  1500.0   1670798778         854.00           6.749931  \n",
       "1       0.80  1210.0   1668701718        1047.00           6.953684  \n",
       "2       0.38   952.0       628377         644.33           6.468211  \n",
       "3       2.30  1317.0   1668701718         768.00           6.643790  \n",
       "4       4.00  2000.0       640665         577.00           6.357842  "
      ]
     },
     "execution_count": 32,
     "metadata": {},
     "output_type": "execute_result"
    }
   ],
   "source": [
    "df.head()"
   ]
  },
  {
   "cell_type": "code",
   "execution_count": 33,
   "id": "8a43075d",
   "metadata": {},
   "outputs": [],
   "source": [
    "df = df.drop(df[df['selling_price_log'] <= 0].index)"
   ]
  },
  {
   "cell_type": "code",
   "execution_count": 34,
   "id": "823bbf9c",
   "metadata": {},
   "outputs": [
    {
     "data": {
      "text/html": [
       "<div>\n",
       "<style scoped>\n",
       "    .dataframe tbody tr th:only-of-type {\n",
       "        vertical-align: middle;\n",
       "    }\n",
       "\n",
       "    .dataframe tbody tr th {\n",
       "        vertical-align: top;\n",
       "    }\n",
       "\n",
       "    .dataframe thead th {\n",
       "        text-align: right;\n",
       "    }\n",
       "</style>\n",
       "<table border=\"1\" class=\"dataframe\">\n",
       "  <thead>\n",
       "    <tr style=\"text-align: right;\">\n",
       "      <th></th>\n",
       "      <th>quantity tons</th>\n",
       "      <th>customer</th>\n",
       "      <th>country</th>\n",
       "      <th>status</th>\n",
       "      <th>item type</th>\n",
       "      <th>application</th>\n",
       "      <th>thickness</th>\n",
       "      <th>width</th>\n",
       "      <th>product_ref</th>\n",
       "      <th>selling_price</th>\n",
       "      <th>selling_price_log</th>\n",
       "    </tr>\n",
       "  </thead>\n",
       "  <tbody>\n",
       "  </tbody>\n",
       "</table>\n",
       "</div>"
      ],
      "text/plain": [
       "Empty DataFrame\n",
       "Columns: [quantity tons, customer, country, status, item type, application, thickness, width, product_ref, selling_price, selling_price_log]\n",
       "Index: []"
      ]
     },
     "execution_count": 34,
     "metadata": {},
     "output_type": "execute_result"
    }
   ],
   "source": [
    "df[df['selling_price_log'] <= 0]"
   ]
  },
  {
   "cell_type": "code",
   "execution_count": 35,
   "id": "b1c867ed",
   "metadata": {},
   "outputs": [
    {
     "data": {
      "text/plain": [
       "quantity tons        0\n",
       "customer             0\n",
       "country              0\n",
       "status               0\n",
       "item type            0\n",
       "application          0\n",
       "thickness            0\n",
       "width                0\n",
       "product_ref          0\n",
       "selling_price        0\n",
       "selling_price_log    0\n",
       "dtype: int64"
      ]
     },
     "execution_count": 35,
     "metadata": {},
     "output_type": "execute_result"
    }
   ],
   "source": [
    "df.isnull().sum()"
   ]
  },
  {
   "cell_type": "code",
   "execution_count": 36,
   "id": "c1d2da03",
   "metadata": {},
   "outputs": [],
   "source": [
    "df = df.dropna()"
   ]
  },
  {
   "cell_type": "code",
   "execution_count": 37,
   "id": "68eb8978",
   "metadata": {},
   "outputs": [
    {
     "data": {
      "text/plain": [
       "(181627, 11)"
      ]
     },
     "execution_count": 37,
     "metadata": {},
     "output_type": "execute_result"
    }
   ],
   "source": [
    "df.shape"
   ]
  },
  {
   "cell_type": "code",
   "execution_count": 38,
   "id": "e182d452",
   "metadata": {},
   "outputs": [
    {
     "data": {
      "image/png": "[encoded data removed]",
      "text/plain": [
       "<Figure size 640x480 with 1 Axes>"
      ]
     },
     "metadata": {},
     "output_type": "display_data"
    },
    {
     "data": {
      "image/png": "[encoded data removed]",
      "text/plain": [
       "<Figure size 640x480 with 1 Axes>"
      ]
     },
     "metadata": {},
     "output_type": "display_data"
    }
   ],
   "source": [
    "sns.distplot(df['selling_price_log'])\n",
    "plt.show()\n",
    "sns.boxplot(df['selling_price_log'])\n",
    "plt.show()"
   ]
  },
  {
   "cell_type": "code",
   "execution_count": 39,
   "id": "345c8a19",
   "metadata": {},
   "outputs": [
    {
     "data": {
      "text/plain": [
       "Index(['quantity tons', 'customer', 'country', 'status', 'item type',\n",
       "       'application', 'thickness', 'width', 'product_ref', 'selling_price',\n",
       "       'selling_price_log'],\n",
       "      dtype='object')"
      ]
     },
     "execution_count": 39,
     "metadata": {},
     "output_type": "execute_result"
    }
   ],
   "source": [
    "df.columns"
   ]
  },
  {
   "cell_type": "code",
   "execution_count": 40,
   "id": "9bfd0dbf",
   "metadata": {},
   "outputs": [
    {
     "data": {
      "text/plain": [
       "status\n",
       "Won                115999\n",
       "Lost                34433\n",
       "Not lost for AM     19566\n",
       "Revised              4276\n",
       "To be approved       4169\n",
       "Draft                3120\n",
       "Offered                53\n",
       "Offerable              10\n",
       "Wonderful               1\n",
       "Name: count, dtype: int64"
      ]
     },
     "execution_count": 40,
     "metadata": {},
     "output_type": "execute_result"
    }
   ],
   "source": [
    "df['status'].value_counts()"
   ]
  },
  {
   "cell_type": "code",
   "execution_count": 41,
   "id": "26846848",
   "metadata": {},
   "outputs": [
    {
     "data": {
      "text/plain": [
       "array(['Won', 'Draft', 'To be approved', 'Lost', 'Not lost for AM',\n",
       "       'Wonderful', 'Revised', 'Offered', 'Offerable'], dtype=object)"
      ]
     },
     "execution_count": 41,
     "metadata": {},
     "output_type": "execute_result"
    }
   ],
   "source": [
    "df['status'].unique()"
   ]
  },
  {
   "cell_type": "code",
   "execution_count": 42,
   "id": "90067d89",
   "metadata": {},
   "outputs": [],
   "source": [
    "status_mapping = {'Won': 0, 'Draft': 1, 'To be approved': 2, 'Lost': 3, 'Not lost for AM': 4,'Wonderful': 5, 'Revised': 6, 'Offered': 7, 'Offerable': 8}\n",
    "df['status'].replace(status_mapping, inplace=True)"
   ]
  },
  {
   "cell_type": "code",
   "execution_count": 43,
   "id": "2fe00b97",
   "metadata": {},
   "outputs": [
    {
     "data": {
      "text/plain": [
       "array([0, 1, 2, 3, 4, 5, 6, 7, 8], dtype=int64)"
      ]
     },
     "execution_count": 43,
     "metadata": {},
     "output_type": "execute_result"
    }
   ],
   "source": [
    "df['status'].unique()"
   ]
  },
  {
   "cell_type": "code",
   "execution_count": 44,
   "id": "fadf2fa2",
   "metadata": {},
   "outputs": [
    {
     "data": {
      "text/plain": [
       "item type\n",
       "W         105601\n",
       "S          69205\n",
       "PL          5659\n",
       "Others       610\n",
       "WI           524\n",
       "IPL           27\n",
       "SLAWR          1\n",
       "Name: count, dtype: int64"
      ]
     },
     "execution_count": 44,
     "metadata": {},
     "output_type": "execute_result"
    }
   ],
   "source": [
    "df['item type'].value_counts()"
   ]
  },
  {
   "cell_type": "code",
   "execution_count": 45,
   "id": "e4848ecc",
   "metadata": {},
   "outputs": [
    {
     "data": {
      "text/plain": [
       "array(['W', 'WI', 'S', 'Others', 'PL', 'IPL', 'SLAWR'], dtype=object)"
      ]
     },
     "execution_count": 45,
     "metadata": {},
     "output_type": "execute_result"
    }
   ],
   "source": [
    "df['item type'].unique()"
   ]
  },
  {
   "cell_type": "code",
   "execution_count": 46,
   "id": "28c1e987",
   "metadata": {},
   "outputs": [],
   "source": [
    "itemtype_mapping = {'W' : 0, 'WI' : 1, 'S' : 2, 'Others': 3, 'PL': 4, 'IPL': 5 , 'SLAWR': 6}\n",
    "df['item type'].replace(itemtype_mapping, inplace=True)"
   ]
  },
  {
   "cell_type": "code",
   "execution_count": 47,
   "id": "8883b6f9",
   "metadata": {},
   "outputs": [
    {
     "data": {
      "text/plain": [
       "array([0, 1, 2, 3, 4, 5, 6], dtype=int64)"
      ]
     },
     "execution_count": 47,
     "metadata": {},
     "output_type": "execute_result"
    }
   ],
   "source": [
    "df['item type'].unique()"
   ]
  },
  {
   "cell_type": "code",
   "execution_count": 48,
   "id": "cfb40768",
   "metadata": {},
   "outputs": [
    {
     "data": {
      "text/html": [
       "<div>\n",
       "<style scoped>\n",
       "    .dataframe tbody tr th:only-of-type {\n",
       "        vertical-align: middle;\n",
       "    }\n",
       "\n",
       "    .dataframe tbody tr th {\n",
       "        vertical-align: top;\n",
       "    }\n",
       "\n",
       "    .dataframe thead th {\n",
       "        text-align: right;\n",
       "    }\n",
       "</style>\n",
       "<table border=\"1\" class=\"dataframe\">\n",
       "  <thead>\n",
       "    <tr style=\"text-align: right;\">\n",
       "      <th></th>\n",
       "      <th>quantity tons</th>\n",
       "      <th>customer</th>\n",
       "      <th>country</th>\n",
       "      <th>status</th>\n",
       "      <th>item type</th>\n",
       "      <th>application</th>\n",
       "      <th>thickness</th>\n",
       "      <th>width</th>\n",
       "      <th>product_ref</th>\n",
       "      <th>selling_price</th>\n",
       "      <th>selling_price_log</th>\n",
       "    </tr>\n",
       "  </thead>\n",
       "  <tbody>\n",
       "    <tr>\n",
       "      <th>0</th>\n",
       "      <td>54.151139</td>\n",
       "      <td>30156308.0</td>\n",
       "      <td>28.0</td>\n",
       "      <td>0</td>\n",
       "      <td>0</td>\n",
       "      <td>10.0</td>\n",
       "      <td>2.00</td>\n",
       "      <td>1500.0</td>\n",
       "      <td>1670798778</td>\n",
       "      <td>854.00</td>\n",
       "      <td>6.749931</td>\n",
       "    </tr>\n",
       "    <tr>\n",
       "      <th>1</th>\n",
       "      <td>768.024839</td>\n",
       "      <td>30202938.0</td>\n",
       "      <td>25.0</td>\n",
       "      <td>0</td>\n",
       "      <td>0</td>\n",
       "      <td>41.0</td>\n",
       "      <td>0.80</td>\n",
       "      <td>1210.0</td>\n",
       "      <td>1668701718</td>\n",
       "      <td>1047.00</td>\n",
       "      <td>6.953684</td>\n",
       "    </tr>\n",
       "    <tr>\n",
       "      <th>2</th>\n",
       "      <td>386.127949</td>\n",
       "      <td>30153963.0</td>\n",
       "      <td>30.0</td>\n",
       "      <td>0</td>\n",
       "      <td>1</td>\n",
       "      <td>28.0</td>\n",
       "      <td>0.38</td>\n",
       "      <td>952.0</td>\n",
       "      <td>628377</td>\n",
       "      <td>644.33</td>\n",
       "      <td>6.468211</td>\n",
       "    </tr>\n",
       "    <tr>\n",
       "      <th>3</th>\n",
       "      <td>202.411065</td>\n",
       "      <td>30349574.0</td>\n",
       "      <td>32.0</td>\n",
       "      <td>0</td>\n",
       "      <td>2</td>\n",
       "      <td>59.0</td>\n",
       "      <td>2.30</td>\n",
       "      <td>1317.0</td>\n",
       "      <td>1668701718</td>\n",
       "      <td>768.00</td>\n",
       "      <td>6.643790</td>\n",
       "    </tr>\n",
       "    <tr>\n",
       "      <th>4</th>\n",
       "      <td>785.526262</td>\n",
       "      <td>30211560.0</td>\n",
       "      <td>28.0</td>\n",
       "      <td>0</td>\n",
       "      <td>0</td>\n",
       "      <td>10.0</td>\n",
       "      <td>4.00</td>\n",
       "      <td>2000.0</td>\n",
       "      <td>640665</td>\n",
       "      <td>577.00</td>\n",
       "      <td>6.357842</td>\n",
       "    </tr>\n",
       "  </tbody>\n",
       "</table>\n",
       "</div>"
      ],
      "text/plain": [
       "   quantity tons    customer  country  status  item type  application  \\\n",
       "0      54.151139  30156308.0     28.0       0          0         10.0   \n",
       "1     768.024839  30202938.0     25.0       0          0         41.0   \n",
       "2     386.127949  30153963.0     30.0       0          1         28.0   \n",
       "3     202.411065  30349574.0     32.0       0          2         59.0   \n",
       "4     785.526262  30211560.0     28.0       0          0         10.0   \n",
       "\n",
       "   thickness   width  product_ref  selling_price  selling_price_log  \n",
       "0       2.00  1500.0   1670798778         854.00           6.749931  \n",
       "1       0.80  1210.0   1668701718        1047.00           6.953684  \n",
       "2       0.38   952.0       628377         644.33           6.468211  \n",
       "3       2.30  1317.0   1668701718         768.00           6.643790  \n",
       "4       4.00  2000.0       640665         577.00           6.357842  "
      ]
     },
     "execution_count": 48,
     "metadata": {},
     "output_type": "execute_result"
    }
   ],
   "source": [
    "df.head()"
   ]
  },
  {
   "cell_type": "code",
   "execution_count": 49,
   "id": "8472463b",
   "metadata": {},
   "outputs": [
    {
     "data": {
      "text/html": [
       "<div>\n",
       "<style scoped>\n",
       "    .dataframe tbody tr th:only-of-type {\n",
       "        vertical-align: middle;\n",
       "    }\n",
       "\n",
       "    .dataframe tbody tr th {\n",
       "        vertical-align: top;\n",
       "    }\n",
       "\n",
       "    .dataframe thead th {\n",
       "        text-align: right;\n",
       "    }\n",
       "</style>\n",
       "<table border=\"1\" class=\"dataframe\">\n",
       "  <thead>\n",
       "    <tr style=\"text-align: right;\">\n",
       "      <th></th>\n",
       "      <th>quantity tons</th>\n",
       "      <th>customer</th>\n",
       "      <th>country</th>\n",
       "      <th>status</th>\n",
       "      <th>item type</th>\n",
       "      <th>application</th>\n",
       "      <th>thickness</th>\n",
       "      <th>width</th>\n",
       "      <th>product_ref</th>\n",
       "      <th>selling_price</th>\n",
       "      <th>selling_price_log</th>\n",
       "    </tr>\n",
       "  </thead>\n",
       "  <tbody>\n",
       "    <tr>\n",
       "      <th>quantity tons</th>\n",
       "      <td>1.000000</td>\n",
       "      <td>-0.000659</td>\n",
       "      <td>-0.001531</td>\n",
       "      <td>0.004003</td>\n",
       "      <td>0.002236</td>\n",
       "      <td>-0.001956</td>\n",
       "      <td>-0.001402</td>\n",
       "      <td>-0.000428</td>\n",
       "      <td>-0.001086</td>\n",
       "      <td>-0.000010</td>\n",
       "      <td>-0.001041</td>\n",
       "    </tr>\n",
       "    <tr>\n",
       "      <th>customer</th>\n",
       "      <td>-0.000659</td>\n",
       "      <td>1.000000</td>\n",
       "      <td>0.083558</td>\n",
       "      <td>0.033077</td>\n",
       "      <td>0.081375</td>\n",
       "      <td>0.000899</td>\n",
       "      <td>0.086936</td>\n",
       "      <td>0.050522</td>\n",
       "      <td>-0.032338</td>\n",
       "      <td>0.001746</td>\n",
       "      <td>0.008785</td>\n",
       "    </tr>\n",
       "    <tr>\n",
       "      <th>country</th>\n",
       "      <td>-0.001531</td>\n",
       "      <td>0.083558</td>\n",
       "      <td>1.000000</td>\n",
       "      <td>-0.102477</td>\n",
       "      <td>-0.138032</td>\n",
       "      <td>-0.019356</td>\n",
       "      <td>-0.039477</td>\n",
       "      <td>0.055299</td>\n",
       "      <td>-0.147370</td>\n",
       "      <td>0.002993</td>\n",
       "      <td>-0.029195</td>\n",
       "    </tr>\n",
       "    <tr>\n",
       "      <th>status</th>\n",
       "      <td>0.004003</td>\n",
       "      <td>0.033077</td>\n",
       "      <td>-0.102477</td>\n",
       "      <td>1.000000</td>\n",
       "      <td>0.213214</td>\n",
       "      <td>-0.085291</td>\n",
       "      <td>0.083146</td>\n",
       "      <td>0.066523</td>\n",
       "      <td>0.067112</td>\n",
       "      <td>0.003473</td>\n",
       "      <td>0.017315</td>\n",
       "    </tr>\n",
       "    <tr>\n",
       "      <th>item type</th>\n",
       "      <td>0.002236</td>\n",
       "      <td>0.081375</td>\n",
       "      <td>-0.138032</td>\n",
       "      <td>0.213214</td>\n",
       "      <td>1.000000</td>\n",
       "      <td>-0.179962</td>\n",
       "      <td>0.059498</td>\n",
       "      <td>0.094756</td>\n",
       "      <td>0.086990</td>\n",
       "      <td>0.006166</td>\n",
       "      <td>-0.046527</td>\n",
       "    </tr>\n",
       "    <tr>\n",
       "      <th>application</th>\n",
       "      <td>-0.001956</td>\n",
       "      <td>0.000899</td>\n",
       "      <td>-0.019356</td>\n",
       "      <td>-0.085291</td>\n",
       "      <td>-0.179962</td>\n",
       "      <td>1.000000</td>\n",
       "      <td>-0.135323</td>\n",
       "      <td>-0.204453</td>\n",
       "      <td>-0.131853</td>\n",
       "      <td>0.001462</td>\n",
       "      <td>0.022738</td>\n",
       "    </tr>\n",
       "    <tr>\n",
       "      <th>thickness</th>\n",
       "      <td>-0.001402</td>\n",
       "      <td>0.086936</td>\n",
       "      <td>-0.039477</td>\n",
       "      <td>0.083146</td>\n",
       "      <td>0.059498</td>\n",
       "      <td>-0.135323</td>\n",
       "      <td>1.000000</td>\n",
       "      <td>0.357565</td>\n",
       "      <td>0.076531</td>\n",
       "      <td>-0.002467</td>\n",
       "      <td>-0.104589</td>\n",
       "    </tr>\n",
       "    <tr>\n",
       "      <th>width</th>\n",
       "      <td>-0.000428</td>\n",
       "      <td>0.050522</td>\n",
       "      <td>0.055299</td>\n",
       "      <td>0.066523</td>\n",
       "      <td>0.094756</td>\n",
       "      <td>-0.204453</td>\n",
       "      <td>0.357565</td>\n",
       "      <td>1.000000</td>\n",
       "      <td>-0.034409</td>\n",
       "      <td>0.000584</td>\n",
       "      <td>-0.069434</td>\n",
       "    </tr>\n",
       "    <tr>\n",
       "      <th>product_ref</th>\n",
       "      <td>-0.001086</td>\n",
       "      <td>-0.032338</td>\n",
       "      <td>-0.147370</td>\n",
       "      <td>0.067112</td>\n",
       "      <td>0.086990</td>\n",
       "      <td>-0.131853</td>\n",
       "      <td>0.076531</td>\n",
       "      <td>-0.034409</td>\n",
       "      <td>1.000000</td>\n",
       "      <td>0.002117</td>\n",
       "      <td>0.001118</td>\n",
       "    </tr>\n",
       "    <tr>\n",
       "      <th>selling_price</th>\n",
       "      <td>-0.000010</td>\n",
       "      <td>0.001746</td>\n",
       "      <td>0.002993</td>\n",
       "      <td>0.003473</td>\n",
       "      <td>0.006166</td>\n",
       "      <td>0.001462</td>\n",
       "      <td>-0.002467</td>\n",
       "      <td>0.000584</td>\n",
       "      <td>0.002117</td>\n",
       "      <td>1.000000</td>\n",
       "      <td>0.069989</td>\n",
       "    </tr>\n",
       "    <tr>\n",
       "      <th>selling_price_log</th>\n",
       "      <td>-0.001041</td>\n",
       "      <td>0.008785</td>\n",
       "      <td>-0.029195</td>\n",
       "      <td>0.017315</td>\n",
       "      <td>-0.046527</td>\n",
       "      <td>0.022738</td>\n",
       "      <td>-0.104589</td>\n",
       "      <td>-0.069434</td>\n",
       "      <td>0.001118</td>\n",
       "      <td>0.069989</td>\n",
       "      <td>1.000000</td>\n",
       "    </tr>\n",
       "  </tbody>\n",
       "</table>\n",
       "</div>"
      ],
      "text/plain": [
       "                   quantity tons  customer   country    status  item type  \\\n",
       "quantity tons           1.000000 -0.000659 -0.001531  0.004003   0.002236   \n",
       "customer               -0.000659  1.000000  0.083558  0.033077   0.081375   \n",
       "country                -0.001531  0.083558  1.000000 -0.102477  -0.138032   \n",
       "status                  0.004003  0.033077 -0.102477  1.000000   0.213214   \n",
       "item type               0.002236  0.081375 -0.138032  0.213214   1.000000   \n",
       "application            -0.001956  0.000899 -0.019356 -0.085291  -0.179962   \n",
       "thickness              -0.001402  0.086936 -0.039477  0.083146   0.059498   \n",
       "width                  -0.000428  0.050522  0.055299  0.066523   0.094756   \n",
       "product_ref            -0.001086 -0.032338 -0.147370  0.067112   0.086990   \n",
       "selling_price          -0.000010  0.001746  0.002993  0.003473   0.006166   \n",
       "selling_price_log      -0.001041  0.008785 -0.029195  0.017315  -0.046527   \n",
       "\n",
       "                   application  thickness     width  product_ref  \\\n",
       "quantity tons        -0.001956  -0.001402 -0.000428    -0.001086   \n",
       "customer              0.000899   0.086936  0.050522    -0.032338   \n",
       "country              -0.019356  -0.039477  0.055299    -0.147370   \n",
       "status               -0.085291   0.083146  0.066523     0.067112   \n",
       "item type            -0.179962   0.059498  0.094756     0.086990   \n",
       "application           1.000000  -0.135323 -0.204453    -0.131853   \n",
       "thickness            -0.135323   1.000000  0.357565     0.076531   \n",
       "width                -0.204453   0.357565  1.000000    -0.034409   \n",
       "product_ref          -0.131853   0.076531 -0.034409     1.000000   \n",
       "selling_price         0.001462  -0.002467  0.000584     0.002117   \n",
       "selling_price_log     0.022738  -0.104589 -0.069434     0.001118   \n",
       "\n",
       "                   selling_price  selling_price_log  \n",
       "quantity tons          -0.000010          -0.001041  \n",
       "customer                0.001746           0.008785  \n",
       "country                 0.002993          -0.029195  \n",
       "status                  0.003473           0.017315  \n",
       "item type               0.006166          -0.046527  \n",
       "application             0.001462           0.022738  \n",
       "thickness              -0.002467          -0.104589  \n",
       "width                   0.000584          -0.069434  \n",
       "product_ref             0.002117           0.001118  \n",
       "selling_price           1.000000           0.069989  \n",
       "selling_price_log       0.069989           1.000000  "
      ]
     },
     "execution_count": 49,
     "metadata": {},
     "output_type": "execute_result"
    }
   ],
   "source": [
    "df.corr()"
   ]
  },
  {
   "cell_type": "code",
   "execution_count": 50,
   "id": "47828d82",
   "metadata": {},
   "outputs": [
    {
     "data": {
      "text/html": [
       "<div>\n",
       "<style scoped>\n",
       "    .dataframe tbody tr th:only-of-type {\n",
       "        vertical-align: middle;\n",
       "    }\n",
       "\n",
       "    .dataframe tbody tr th {\n",
       "        vertical-align: top;\n",
       "    }\n",
       "\n",
       "    .dataframe thead th {\n",
       "        text-align: right;\n",
       "    }\n",
       "</style>\n",
       "<table border=\"1\" class=\"dataframe\">\n",
       "  <thead>\n",
       "    <tr style=\"text-align: right;\">\n",
       "      <th></th>\n",
       "      <th>quantity tons</th>\n",
       "      <th>customer</th>\n",
       "      <th>country</th>\n",
       "      <th>status</th>\n",
       "      <th>item type</th>\n",
       "      <th>application</th>\n",
       "      <th>thickness</th>\n",
       "      <th>width</th>\n",
       "      <th>product_ref</th>\n",
       "      <th>selling_price</th>\n",
       "      <th>selling_price_log</th>\n",
       "    </tr>\n",
       "  </thead>\n",
       "  <tbody>\n",
       "    <tr>\n",
       "      <th>quantity tons</th>\n",
       "      <td>5.519550e+12</td>\n",
       "      <td>-1.557294e+08</td>\n",
       "      <td>-8.775576e+04</td>\n",
       "      <td>1.614853e+04</td>\n",
       "      <td>5.870923e+03</td>\n",
       "      <td>-8.157410e+04</td>\n",
       "      <td>-9.805882e+03</td>\n",
       "      <td>-2.631180e+05</td>\n",
       "      <td>-1.830641e+12</td>\n",
       "      <td>-7.716062e+06</td>\n",
       "      <td>-1378.814205</td>\n",
       "    </tr>\n",
       "    <tr>\n",
       "      <th>customer</th>\n",
       "      <td>-1.557294e+08</td>\n",
       "      <td>1.011314e+10</td>\n",
       "      <td>2.050699e+05</td>\n",
       "      <td>5.711922e+03</td>\n",
       "      <td>9.145253e+03</td>\n",
       "      <td>1.605408e+03</td>\n",
       "      <td>2.602213e+04</td>\n",
       "      <td>1.329348e+06</td>\n",
       "      <td>-2.333476e+12</td>\n",
       "      <td>5.827951e+07</td>\n",
       "      <td>497.955030</td>\n",
       "    </tr>\n",
       "    <tr>\n",
       "      <th>country</th>\n",
       "      <td>-8.775576e+04</td>\n",
       "      <td>2.050699e+05</td>\n",
       "      <td>5.955803e+02</td>\n",
       "      <td>-4.294485e+00</td>\n",
       "      <td>-3.764572e+00</td>\n",
       "      <td>-8.386507e+00</td>\n",
       "      <td>-2.867607e+00</td>\n",
       "      <td>3.531089e+02</td>\n",
       "      <td>-2.580606e+09</td>\n",
       "      <td>2.423513e+04</td>\n",
       "      <td>-0.401606</td>\n",
       "    </tr>\n",
       "    <tr>\n",
       "      <th>status</th>\n",
       "      <td>1.614853e+04</td>\n",
       "      <td>5.711922e+03</td>\n",
       "      <td>-4.294485e+00</td>\n",
       "      <td>2.948713e+00</td>\n",
       "      <td>4.091637e-01</td>\n",
       "      <td>-2.600280e+00</td>\n",
       "      <td>4.249739e-01</td>\n",
       "      <td>2.988856e+01</td>\n",
       "      <td>8.269051e+07</td>\n",
       "      <td>1.978789e+03</td>\n",
       "      <td>0.016759</td>\n",
       "    </tr>\n",
       "    <tr>\n",
       "      <th>item type</th>\n",
       "      <td>5.870923e+03</td>\n",
       "      <td>9.145253e+03</td>\n",
       "      <td>-3.764572e+00</td>\n",
       "      <td>4.091637e-01</td>\n",
       "      <td>1.248902e+00</td>\n",
       "      <td>-3.570647e+00</td>\n",
       "      <td>1.979119e-01</td>\n",
       "      <td>2.770699e+01</td>\n",
       "      <td>6.975485e+07</td>\n",
       "      <td>2.286595e+03</td>\n",
       "      <td>-0.029308</td>\n",
       "    </tr>\n",
       "    <tr>\n",
       "      <th>application</th>\n",
       "      <td>-8.157410e+04</td>\n",
       "      <td>1.605408e+03</td>\n",
       "      <td>-8.386507e+00</td>\n",
       "      <td>-2.600280e+00</td>\n",
       "      <td>-3.570647e+00</td>\n",
       "      <td>3.152123e+02</td>\n",
       "      <td>-7.151145e+00</td>\n",
       "      <td>-9.497592e+02</td>\n",
       "      <td>-1.679700e+09</td>\n",
       "      <td>8.611889e+03</td>\n",
       "      <td>0.227549</td>\n",
       "    </tr>\n",
       "    <tr>\n",
       "      <th>thickness</th>\n",
       "      <td>-9.805882e+03</td>\n",
       "      <td>2.602213e+04</td>\n",
       "      <td>-2.867607e+00</td>\n",
       "      <td>4.249739e-01</td>\n",
       "      <td>1.979119e-01</td>\n",
       "      <td>-7.151145e+00</td>\n",
       "      <td>8.859404e+00</td>\n",
       "      <td>2.784674e+02</td>\n",
       "      <td>1.634476e+08</td>\n",
       "      <td>-2.436803e+03</td>\n",
       "      <td>-0.175471</td>\n",
       "    </tr>\n",
       "    <tr>\n",
       "      <th>width</th>\n",
       "      <td>-2.631180e+05</td>\n",
       "      <td>1.329348e+06</td>\n",
       "      <td>3.531089e+02</td>\n",
       "      <td>2.988856e+01</td>\n",
       "      <td>2.770699e+01</td>\n",
       "      <td>-9.497592e+02</td>\n",
       "      <td>2.784674e+02</td>\n",
       "      <td>6.845976e+04</td>\n",
       "      <td>-6.459973e+09</td>\n",
       "      <td>5.069473e+04</td>\n",
       "      <td>-10.240194</td>\n",
       "    </tr>\n",
       "    <tr>\n",
       "      <th>product_ref</th>\n",
       "      <td>-1.830641e+12</td>\n",
       "      <td>-2.333476e+12</td>\n",
       "      <td>-2.580606e+09</td>\n",
       "      <td>8.269051e+07</td>\n",
       "      <td>6.975485e+07</td>\n",
       "      <td>-1.679700e+09</td>\n",
       "      <td>1.634476e+08</td>\n",
       "      <td>-6.459973e+09</td>\n",
       "      <td>5.148523e+17</td>\n",
       "      <td>5.041663e+11</td>\n",
       "      <td>452096.865085</td>\n",
       "    </tr>\n",
       "    <tr>\n",
       "      <th>selling_price</th>\n",
       "      <td>-7.716062e+06</td>\n",
       "      <td>5.827951e+07</td>\n",
       "      <td>2.423513e+04</td>\n",
       "      <td>1.978789e+03</td>\n",
       "      <td>2.286595e+03</td>\n",
       "      <td>8.611889e+03</td>\n",
       "      <td>-2.436803e+03</td>\n",
       "      <td>5.069473e+04</td>\n",
       "      <td>5.041663e+11</td>\n",
       "      <td>1.101156e+11</td>\n",
       "      <td>13090.957591</td>\n",
       "    </tr>\n",
       "    <tr>\n",
       "      <th>selling_price_log</th>\n",
       "      <td>-1.378814e+03</td>\n",
       "      <td>4.979550e+02</td>\n",
       "      <td>-4.016059e-01</td>\n",
       "      <td>1.675904e-02</td>\n",
       "      <td>-2.930801e-02</td>\n",
       "      <td>2.275493e-01</td>\n",
       "      <td>-1.754711e-01</td>\n",
       "      <td>-1.024019e+01</td>\n",
       "      <td>4.520969e+05</td>\n",
       "      <td>1.309096e+04</td>\n",
       "      <td>0.317715</td>\n",
       "    </tr>\n",
       "  </tbody>\n",
       "</table>\n",
       "</div>"
      ],
      "text/plain": [
       "                   quantity tons      customer       country        status  \\\n",
       "quantity tons       5.519550e+12 -1.557294e+08 -8.775576e+04  1.614853e+04   \n",
       "customer           -1.557294e+08  1.011314e+10  2.050699e+05  5.711922e+03   \n",
       "country            -8.775576e+04  2.050699e+05  5.955803e+02 -4.294485e+00   \n",
       "status              1.614853e+04  5.711922e+03 -4.294485e+00  2.948713e+00   \n",
       "item type           5.870923e+03  9.145253e+03 -3.764572e+00  4.091637e-01   \n",
       "application        -8.157410e+04  1.605408e+03 -8.386507e+00 -2.600280e+00   \n",
       "thickness          -9.805882e+03  2.602213e+04 -2.867607e+00  4.249739e-01   \n",
       "width              -2.631180e+05  1.329348e+06  3.531089e+02  2.988856e+01   \n",
       "product_ref        -1.830641e+12 -2.333476e+12 -2.580606e+09  8.269051e+07   \n",
       "selling_price      -7.716062e+06  5.827951e+07  2.423513e+04  1.978789e+03   \n",
       "selling_price_log  -1.378814e+03  4.979550e+02 -4.016059e-01  1.675904e-02   \n",
       "\n",
       "                      item type   application     thickness         width  \\\n",
       "quantity tons      5.870923e+03 -8.157410e+04 -9.805882e+03 -2.631180e+05   \n",
       "customer           9.145253e+03  1.605408e+03  2.602213e+04  1.329348e+06   \n",
       "country           -3.764572e+00 -8.386507e+00 -2.867607e+00  3.531089e+02   \n",
       "status             4.091637e-01 -2.600280e+00  4.249739e-01  2.988856e+01   \n",
       "item type          1.248902e+00 -3.570647e+00  1.979119e-01  2.770699e+01   \n",
       "application       -3.570647e+00  3.152123e+02 -7.151145e+00 -9.497592e+02   \n",
       "thickness          1.979119e-01 -7.151145e+00  8.859404e+00  2.784674e+02   \n",
       "width              2.770699e+01 -9.497592e+02  2.784674e+02  6.845976e+04   \n",
       "product_ref        6.975485e+07 -1.679700e+09  1.634476e+08 -6.459973e+09   \n",
       "selling_price      2.286595e+03  8.611889e+03 -2.436803e+03  5.069473e+04   \n",
       "selling_price_log -2.930801e-02  2.275493e-01 -1.754711e-01 -1.024019e+01   \n",
       "\n",
       "                    product_ref  selling_price  selling_price_log  \n",
       "quantity tons     -1.830641e+12  -7.716062e+06       -1378.814205  \n",
       "customer          -2.333476e+12   5.827951e+07         497.955030  \n",
       "country           -2.580606e+09   2.423513e+04          -0.401606  \n",
       "status             8.269051e+07   1.978789e+03           0.016759  \n",
       "item type          6.975485e+07   2.286595e+03          -0.029308  \n",
       "application       -1.679700e+09   8.611889e+03           0.227549  \n",
       "thickness          1.634476e+08  -2.436803e+03          -0.175471  \n",
       "width             -6.459973e+09   5.069473e+04         -10.240194  \n",
       "product_ref        5.148523e+17   5.041663e+11      452096.865085  \n",
       "selling_price      5.041663e+11   1.101156e+11       13090.957591  \n",
       "selling_price_log  4.520969e+05   1.309096e+04           0.317715  "
      ]
     },
     "execution_count": 50,
     "metadata": {},
     "output_type": "execute_result"
    }
   ],
   "source": [
    "df.cov()"
   ]
  },
  {
   "cell_type": "markdown",
   "id": "fab6cd50",
   "metadata": {},
   "source": [
    "## Outlier Handling"
   ]
  },
  {
   "cell_type": "code",
   "execution_count": 51,
   "id": "1f91ba29",
   "metadata": {},
   "outputs": [
    {
     "data": {
      "image/png": "[encoded data removed]",
      "text/plain": [
       "<Figure size 1000x1500 with 11 Axes>"
      ]
     },
     "metadata": {},
     "output_type": "display_data"
    }
   ],
   "source": [
    "plt.figure(figsize=(10,15))\n",
    "for i, col in enumerate(df.columns, 0):\n",
    "    plt.subplot(5, 3, i + 1)\n",
    "    sns.boxplot(x=df[col])\n",
    "    plt.title(col)  \n",
    "\n",
    "plt.tight_layout() \n",
    "plt.show()"
   ]
  },
  {
   "cell_type": "code",
   "execution_count": 52,
   "id": "f297a996",
   "metadata": {},
   "outputs": [],
   "source": [
    "# Using IQR method to handle the outliers.\n",
    "def outlier(df, column):\n",
    "    iqr = df[column].quantile(0.75) - df[column].quantile(0.25)\n",
    "    upper_threshold = df[column].quantile(0.75) + (1.5*iqr)\n",
    "    lower_threshold = df[column].quantile(0.25) - (1.5*iqr)\n",
    "    df[column] = df[column].clip(lower_threshold, upper_threshold)"
   ]
  },
  {
   "cell_type": "code",
   "execution_count": 53,
   "id": "2373409a",
   "metadata": {},
   "outputs": [
    {
     "data": {
      "text/plain": [
       "Index(['quantity tons', 'customer', 'country', 'status', 'item type',\n",
       "       'application', 'thickness', 'width', 'product_ref', 'selling_price',\n",
       "       'selling_price_log'],\n",
       "      dtype='object')"
      ]
     },
     "execution_count": 53,
     "metadata": {},
     "output_type": "execute_result"
    }
   ],
   "source": [
    "df.columns"
   ]
  },
  {
   "cell_type": "code",
   "execution_count": 54,
   "id": "f544e72a",
   "metadata": {},
   "outputs": [
    {
     "data": {
      "text/plain": [
       "array([30156308., 30202938., 30153963., ..., 30349515., 30284694.,\n",
       "       30161559.])"
      ]
     },
     "execution_count": 54,
     "metadata": {},
     "output_type": "execute_result"
    }
   ],
   "source": [
    "df['customer'].unique()"
   ]
  },
  {
   "cell_type": "code",
   "execution_count": 55,
   "id": "c0480d12",
   "metadata": {},
   "outputs": [
    {
     "data": {
      "text/plain": [
       "(12458.0, 30408185.0)"
      ]
     },
     "execution_count": 55,
     "metadata": {},
     "output_type": "execute_result"
    }
   ],
   "source": [
    "min(df['customer']),max(df['customer'])"
   ]
  },
  {
   "cell_type": "code",
   "execution_count": 56,
   "id": "a3a8ec47",
   "metadata": {},
   "outputs": [
    {
     "data": {
      "text/plain": [
       "(1e-05, 1000000000.0)"
      ]
     },
     "execution_count": 56,
     "metadata": {},
     "output_type": "execute_result"
    }
   ],
   "source": [
    "min(df['quantity tons']),max(df['quantity tons'])"
   ]
  },
  {
   "cell_type": "code",
   "execution_count": 57,
   "id": "e598d53c",
   "metadata": {},
   "outputs": [],
   "source": [
    "column = ['quantity tons', 'thickness', 'width']\n",
    "for i in column:\n",
    "    outlier(df, i)"
   ]
  },
  {
   "cell_type": "code",
   "execution_count": 58,
   "id": "f5634dea",
   "metadata": {},
   "outputs": [
    {
     "data": {
      "image/png": "[encoded data removed]",
      "text/plain": [
       "<Figure size 1000x1500 with 11 Axes>"
      ]
     },
     "metadata": {},
     "output_type": "display_data"
    }
   ],
   "source": [
    "plt.figure(figsize=(10,15))\n",
    "for i, col in enumerate(df.columns, 0):\n",
    "    plt.subplot(5, 3, i + 1)\n",
    "    sns.boxplot(x=df[col])\n",
    "    plt.title(col)  \n",
    "\n",
    "plt.tight_layout() \n",
    "plt.show()"
   ]
  },
  {
   "cell_type": "code",
   "execution_count": 59,
   "id": "708c7e1b",
   "metadata": {},
   "outputs": [
    {
     "data": {
      "text/plain": [
       "quantity tons        0\n",
       "customer             0\n",
       "country              0\n",
       "status               0\n",
       "item type            0\n",
       "application          0\n",
       "thickness            0\n",
       "width                0\n",
       "product_ref          0\n",
       "selling_price        0\n",
       "selling_price_log    0\n",
       "dtype: int64"
      ]
     },
     "execution_count": 59,
     "metadata": {},
     "output_type": "execute_result"
    }
   ],
   "source": [
    "df.isnull().sum()"
   ]
  },
  {
   "cell_type": "code",
   "execution_count": 60,
   "id": "9ac461f5",
   "metadata": {},
   "outputs": [
    {
     "data": {
      "text/html": [
       "<div>\n",
       "<style scoped>\n",
       "    .dataframe tbody tr th:only-of-type {\n",
       "        vertical-align: middle;\n",
       "    }\n",
       "\n",
       "    .dataframe tbody tr th {\n",
       "        vertical-align: top;\n",
       "    }\n",
       "\n",
       "    .dataframe thead th {\n",
       "        text-align: right;\n",
       "    }\n",
       "</style>\n",
       "<table border=\"1\" class=\"dataframe\">\n",
       "  <thead>\n",
       "    <tr style=\"text-align: right;\">\n",
       "      <th></th>\n",
       "      <th>quantity tons</th>\n",
       "      <th>customer</th>\n",
       "      <th>country</th>\n",
       "      <th>status</th>\n",
       "      <th>item type</th>\n",
       "      <th>application</th>\n",
       "      <th>thickness</th>\n",
       "      <th>width</th>\n",
       "      <th>product_ref</th>\n",
       "      <th>selling_price</th>\n",
       "      <th>selling_price_log</th>\n",
       "    </tr>\n",
       "  </thead>\n",
       "  <tbody>\n",
       "    <tr>\n",
       "      <th>0</th>\n",
       "      <td>54.151139</td>\n",
       "      <td>30156308.0</td>\n",
       "      <td>28.0</td>\n",
       "      <td>0</td>\n",
       "      <td>0</td>\n",
       "      <td>10.0</td>\n",
       "      <td>2.00</td>\n",
       "      <td>1500.00</td>\n",
       "      <td>1670798778</td>\n",
       "      <td>854.00</td>\n",
       "      <td>6.749931</td>\n",
       "    </tr>\n",
       "    <tr>\n",
       "      <th>1</th>\n",
       "      <td>151.450919</td>\n",
       "      <td>30202938.0</td>\n",
       "      <td>25.0</td>\n",
       "      <td>0</td>\n",
       "      <td>0</td>\n",
       "      <td>41.0</td>\n",
       "      <td>0.80</td>\n",
       "      <td>1210.00</td>\n",
       "      <td>1668701718</td>\n",
       "      <td>1047.00</td>\n",
       "      <td>6.953684</td>\n",
       "    </tr>\n",
       "    <tr>\n",
       "      <th>2</th>\n",
       "      <td>151.450919</td>\n",
       "      <td>30153963.0</td>\n",
       "      <td>30.0</td>\n",
       "      <td>0</td>\n",
       "      <td>1</td>\n",
       "      <td>28.0</td>\n",
       "      <td>0.38</td>\n",
       "      <td>952.00</td>\n",
       "      <td>628377</td>\n",
       "      <td>644.33</td>\n",
       "      <td>6.468211</td>\n",
       "    </tr>\n",
       "    <tr>\n",
       "      <th>3</th>\n",
       "      <td>151.450919</td>\n",
       "      <td>30349574.0</td>\n",
       "      <td>32.0</td>\n",
       "      <td>0</td>\n",
       "      <td>2</td>\n",
       "      <td>59.0</td>\n",
       "      <td>2.30</td>\n",
       "      <td>1317.00</td>\n",
       "      <td>1668701718</td>\n",
       "      <td>768.00</td>\n",
       "      <td>6.643790</td>\n",
       "    </tr>\n",
       "    <tr>\n",
       "      <th>4</th>\n",
       "      <td>151.450919</td>\n",
       "      <td>30211560.0</td>\n",
       "      <td>28.0</td>\n",
       "      <td>0</td>\n",
       "      <td>0</td>\n",
       "      <td>10.0</td>\n",
       "      <td>4.00</td>\n",
       "      <td>1980.75</td>\n",
       "      <td>640665</td>\n",
       "      <td>577.00</td>\n",
       "      <td>6.357842</td>\n",
       "    </tr>\n",
       "  </tbody>\n",
       "</table>\n",
       "</div>"
      ],
      "text/plain": [
       "   quantity tons    customer  country  status  item type  application  \\\n",
       "0      54.151139  30156308.0     28.0       0          0         10.0   \n",
       "1     151.450919  30202938.0     25.0       0          0         41.0   \n",
       "2     151.450919  30153963.0     30.0       0          1         28.0   \n",
       "3     151.450919  30349574.0     32.0       0          2         59.0   \n",
       "4     151.450919  30211560.0     28.0       0          0         10.0   \n",
       "\n",
       "   thickness    width  product_ref  selling_price  selling_price_log  \n",
       "0       2.00  1500.00   1670798778         854.00           6.749931  \n",
       "1       0.80  1210.00   1668701718        1047.00           6.953684  \n",
       "2       0.38   952.00       628377         644.33           6.468211  \n",
       "3       2.30  1317.00   1668701718         768.00           6.643790  \n",
       "4       4.00  1980.75       640665         577.00           6.357842  "
      ]
     },
     "execution_count": 60,
     "metadata": {},
     "output_type": "execute_result"
    }
   ],
   "source": [
    "df.head()"
   ]
  },
  {
   "cell_type": "code",
   "execution_count": 61,
   "id": "0ba2fa8d",
   "metadata": {},
   "outputs": [],
   "source": [
    "df1 = df.copy()"
   ]
  },
  {
   "cell_type": "code",
   "execution_count": 63,
   "id": "5d6cc9fa",
   "metadata": {},
   "outputs": [
    {
     "data": {
      "text/plain": [
       "Index(['quantity tons', 'customer', 'country', 'status', 'item type',\n",
       "       'application', 'thickness', 'width', 'product_ref', 'selling_price',\n",
       "       'selling_price_log'],\n",
       "      dtype='object')"
      ]
     },
     "execution_count": 63,
     "metadata": {},
     "output_type": "execute_result"
    }
   ],
   "source": [
    "df1.columns"
   ]
  },
  {
   "cell_type": "code",
   "execution_count": 64,
   "id": "e545e45a",
   "metadata": {},
   "outputs": [],
   "source": [
    "df1.drop(['selling_price'],axis=1,inplace=True)"
   ]
  },
  {
   "cell_type": "code",
   "execution_count": 104,
   "id": "b2f7aa13",
   "metadata": {},
   "outputs": [
    {
     "data": {
      "text/html": [
       "<div>\n",
       "<style scoped>\n",
       "    .dataframe tbody tr th:only-of-type {\n",
       "        vertical-align: middle;\n",
       "    }\n",
       "\n",
       "    .dataframe tbody tr th {\n",
       "        vertical-align: top;\n",
       "    }\n",
       "\n",
       "    .dataframe thead th {\n",
       "        text-align: right;\n",
       "    }\n",
       "</style>\n",
       "<table border=\"1\" class=\"dataframe\">\n",
       "  <thead>\n",
       "    <tr style=\"text-align: right;\">\n",
       "      <th></th>\n",
       "      <th>quantity tons</th>\n",
       "      <th>customer</th>\n",
       "      <th>country</th>\n",
       "      <th>status</th>\n",
       "      <th>item type</th>\n",
       "      <th>application</th>\n",
       "      <th>thickness</th>\n",
       "      <th>width</th>\n",
       "      <th>product_ref</th>\n",
       "      <th>selling_price_log</th>\n",
       "    </tr>\n",
       "  </thead>\n",
       "  <tbody>\n",
       "    <tr>\n",
       "      <th>0</th>\n",
       "      <td>54.151139</td>\n",
       "      <td>30156308.0</td>\n",
       "      <td>28.0</td>\n",
       "      <td>0</td>\n",
       "      <td>0</td>\n",
       "      <td>10.0</td>\n",
       "      <td>2.00</td>\n",
       "      <td>1500.00</td>\n",
       "      <td>1670798778</td>\n",
       "      <td>6.749931</td>\n",
       "    </tr>\n",
       "    <tr>\n",
       "      <th>1</th>\n",
       "      <td>151.450919</td>\n",
       "      <td>30202938.0</td>\n",
       "      <td>25.0</td>\n",
       "      <td>0</td>\n",
       "      <td>0</td>\n",
       "      <td>41.0</td>\n",
       "      <td>0.80</td>\n",
       "      <td>1210.00</td>\n",
       "      <td>1668701718</td>\n",
       "      <td>6.953684</td>\n",
       "    </tr>\n",
       "    <tr>\n",
       "      <th>2</th>\n",
       "      <td>151.450919</td>\n",
       "      <td>30153963.0</td>\n",
       "      <td>30.0</td>\n",
       "      <td>0</td>\n",
       "      <td>1</td>\n",
       "      <td>28.0</td>\n",
       "      <td>0.38</td>\n",
       "      <td>952.00</td>\n",
       "      <td>628377</td>\n",
       "      <td>6.468211</td>\n",
       "    </tr>\n",
       "    <tr>\n",
       "      <th>3</th>\n",
       "      <td>151.450919</td>\n",
       "      <td>30349574.0</td>\n",
       "      <td>32.0</td>\n",
       "      <td>0</td>\n",
       "      <td>2</td>\n",
       "      <td>59.0</td>\n",
       "      <td>2.30</td>\n",
       "      <td>1317.00</td>\n",
       "      <td>1668701718</td>\n",
       "      <td>6.643790</td>\n",
       "    </tr>\n",
       "    <tr>\n",
       "      <th>4</th>\n",
       "      <td>151.450919</td>\n",
       "      <td>30211560.0</td>\n",
       "      <td>28.0</td>\n",
       "      <td>0</td>\n",
       "      <td>0</td>\n",
       "      <td>10.0</td>\n",
       "      <td>4.00</td>\n",
       "      <td>1980.75</td>\n",
       "      <td>640665</td>\n",
       "      <td>6.357842</td>\n",
       "    </tr>\n",
       "  </tbody>\n",
       "</table>\n",
       "</div>"
      ],
      "text/plain": [
       "   quantity tons    customer  country  status  item type  application  \\\n",
       "0      54.151139  30156308.0     28.0       0          0         10.0   \n",
       "1     151.450919  30202938.0     25.0       0          0         41.0   \n",
       "2     151.450919  30153963.0     30.0       0          1         28.0   \n",
       "3     151.450919  30349574.0     32.0       0          2         59.0   \n",
       "4     151.450919  30211560.0     28.0       0          0         10.0   \n",
       "\n",
       "   thickness    width  product_ref  selling_price_log  \n",
       "0       2.00  1500.00   1670798778           6.749931  \n",
       "1       0.80  1210.00   1668701718           6.953684  \n",
       "2       0.38   952.00       628377           6.468211  \n",
       "3       2.30  1317.00   1668701718           6.643790  \n",
       "4       4.00  1980.75       640665           6.357842  "
      ]
     },
     "execution_count": 104,
     "metadata": {},
     "output_type": "execute_result"
    }
   ],
   "source": [
    "df1.head(5)"
   ]
  },
  {
   "cell_type": "markdown",
   "id": "5c326ccf",
   "metadata": {},
   "source": [
    "# Regression Model Building"
   ]
  },
  {
   "cell_type": "code",
   "execution_count": 82,
   "id": "d88208e7",
   "metadata": {},
   "outputs": [],
   "source": [
    "from sklearn.preprocessing import StandardScaler\n",
    "from sklearn.model_selection import train_test_split\n",
    "from sklearn.model_selection import GridSearchCV\n",
    "from sklearn.tree import DecisionTreeRegressor\n",
    "from sklearn.neighbors import KNeighborsRegressor\n",
    "from sklearn.ensemble import RandomForestRegressor\n",
    "from sklearn import metrics"
   ]
  },
  {
   "cell_type": "code",
   "execution_count": 63,
   "id": "69ccf3e3",
   "metadata": {},
   "outputs": [],
   "source": [
    "x = df1.drop('selling_price_log',axis=1)\n",
    "y = df1['selling_price_log']"
   ]
  },
  {
   "cell_type": "code",
   "execution_count": 64,
   "id": "defd850c",
   "metadata": {},
   "outputs": [
    {
     "data": {
      "text/html": [
       "<div>\n",
       "<style scoped>\n",
       "    .dataframe tbody tr th:only-of-type {\n",
       "        vertical-align: middle;\n",
       "    }\n",
       "\n",
       "    .dataframe tbody tr th {\n",
       "        vertical-align: top;\n",
       "    }\n",
       "\n",
       "    .dataframe thead th {\n",
       "        text-align: right;\n",
       "    }\n",
       "</style>\n",
       "<table border=\"1\" class=\"dataframe\">\n",
       "  <thead>\n",
       "    <tr style=\"text-align: right;\">\n",
       "      <th></th>\n",
       "      <th>quantity tons</th>\n",
       "      <th>customer</th>\n",
       "      <th>country</th>\n",
       "      <th>status</th>\n",
       "      <th>item type</th>\n",
       "      <th>application</th>\n",
       "      <th>thickness</th>\n",
       "      <th>width</th>\n",
       "      <th>product_ref</th>\n",
       "    </tr>\n",
       "  </thead>\n",
       "  <tbody>\n",
       "    <tr>\n",
       "      <th>0</th>\n",
       "      <td>54.151139</td>\n",
       "      <td>30156308.0</td>\n",
       "      <td>28.0</td>\n",
       "      <td>0</td>\n",
       "      <td>0</td>\n",
       "      <td>10.0</td>\n",
       "      <td>2.00</td>\n",
       "      <td>1500.00</td>\n",
       "      <td>1670798778</td>\n",
       "    </tr>\n",
       "    <tr>\n",
       "      <th>1</th>\n",
       "      <td>151.450919</td>\n",
       "      <td>30202938.0</td>\n",
       "      <td>25.0</td>\n",
       "      <td>0</td>\n",
       "      <td>0</td>\n",
       "      <td>41.0</td>\n",
       "      <td>0.80</td>\n",
       "      <td>1210.00</td>\n",
       "      <td>1668701718</td>\n",
       "    </tr>\n",
       "    <tr>\n",
       "      <th>2</th>\n",
       "      <td>151.450919</td>\n",
       "      <td>30153963.0</td>\n",
       "      <td>30.0</td>\n",
       "      <td>0</td>\n",
       "      <td>1</td>\n",
       "      <td>28.0</td>\n",
       "      <td>0.38</td>\n",
       "      <td>952.00</td>\n",
       "      <td>628377</td>\n",
       "    </tr>\n",
       "    <tr>\n",
       "      <th>3</th>\n",
       "      <td>151.450919</td>\n",
       "      <td>30349574.0</td>\n",
       "      <td>32.0</td>\n",
       "      <td>0</td>\n",
       "      <td>2</td>\n",
       "      <td>59.0</td>\n",
       "      <td>2.30</td>\n",
       "      <td>1317.00</td>\n",
       "      <td>1668701718</td>\n",
       "    </tr>\n",
       "    <tr>\n",
       "      <th>4</th>\n",
       "      <td>151.450919</td>\n",
       "      <td>30211560.0</td>\n",
       "      <td>28.0</td>\n",
       "      <td>0</td>\n",
       "      <td>0</td>\n",
       "      <td>10.0</td>\n",
       "      <td>4.00</td>\n",
       "      <td>1980.75</td>\n",
       "      <td>640665</td>\n",
       "    </tr>\n",
       "  </tbody>\n",
       "</table>\n",
       "</div>"
      ],
      "text/plain": [
       "   quantity tons    customer  country  status  item type  application  \\\n",
       "0      54.151139  30156308.0     28.0       0          0         10.0   \n",
       "1     151.450919  30202938.0     25.0       0          0         41.0   \n",
       "2     151.450919  30153963.0     30.0       0          1         28.0   \n",
       "3     151.450919  30349574.0     32.0       0          2         59.0   \n",
       "4     151.450919  30211560.0     28.0       0          0         10.0   \n",
       "\n",
       "   thickness    width  product_ref  \n",
       "0       2.00  1500.00   1670798778  \n",
       "1       0.80  1210.00   1668701718  \n",
       "2       0.38   952.00       628377  \n",
       "3       2.30  1317.00   1668701718  \n",
       "4       4.00  1980.75       640665  "
      ]
     },
     "execution_count": 64,
     "metadata": {},
     "output_type": "execute_result"
    }
   ],
   "source": [
    "x.head()"
   ]
  },
  {
   "cell_type": "code",
   "execution_count": 65,
   "id": "c933993d",
   "metadata": {},
   "outputs": [
    {
     "data": {
      "text/plain": [
       "0    6.749931\n",
       "1    6.953684\n",
       "2    6.468211\n",
       "3    6.643790\n",
       "4    6.357842\n",
       "Name: selling_price_log, dtype: float64"
      ]
     },
     "execution_count": 65,
     "metadata": {},
     "output_type": "execute_result"
    }
   ],
   "source": [
    "y.head()"
   ]
  },
  {
   "cell_type": "code",
   "execution_count": 66,
   "id": "99bc5d4e",
   "metadata": {},
   "outputs": [
    {
     "data": {
      "text/plain": [
       "(181627, 9)"
      ]
     },
     "execution_count": 66,
     "metadata": {},
     "output_type": "execute_result"
    }
   ],
   "source": [
    "x.shape"
   ]
  },
  {
   "cell_type": "code",
   "execution_count": 67,
   "id": "bcc1eb40",
   "metadata": {},
   "outputs": [],
   "source": [
    "x_train_rg, x_test_rg, y_train_rg, y_test_rg = train_test_split( x, y, test_size=0.30, random_state=42)"
   ]
  },
  {
   "cell_type": "code",
   "execution_count": 68,
   "id": "925a3506",
   "metadata": {
    "scrolled": true
   },
   "outputs": [
    {
     "name": "stdout",
     "output_type": "stream",
     "text": [
      "(127138, 9)\n",
      "(54489, 9)\n",
      "(127138,)\n",
      "(54489,)\n"
     ]
    }
   ],
   "source": [
    "print(x_train_rg.shape)\n",
    "print(x_test_rg.shape)\n",
    "print(y_train_rg.shape)\n",
    "print(y_test_rg.shape)"
   ]
  },
  {
   "cell_type": "code",
   "execution_count": 102,
   "id": "0ae33678",
   "metadata": {},
   "outputs": [],
   "source": [
    "rf =  RandomForestRegressor()\n",
    "dtr = DecisionTreeRegressor()\n",
    "knn = KNeighborsRegressor()\n",
    "\n",
    "models = [rf, dtr, knn]\n",
    "metrics_list = []\n",
    "\n",
    "for model in models:\n",
    "    model.fit(x_train_rg, y_train_rg)\n",
    "    y_train_pred_rg = model.predict(x_train_rg)\n",
    "    y_pred_rg = model.predict(x_test_rg)\n",
    "    mse_test = metrics.mean_squared_error(y_test_rg, y_pred_rg) * 100\n",
    "    mae_test = metrics.mean_absolute_error(y_test_rg, y_pred_rg) * 100\n",
    "    r2_test = metrics.r2_score(y_test_rg, y_pred_rg)\n",
    "    rmse_test = np.sqrt(mse_test)  # Fixing the variable name here\n",
    "    mse_train = metrics.mean_squared_error(y_train_rg, y_train_pred_rg) * 100\n",
    "    mae_train = metrics.mean_absolute_error(y_train_rg, y_train_pred_rg) * 100\n",
    "    r2_train = metrics.r2_score(y_train_rg, y_train_pred_rg)\n",
    "    rmse_train = np.sqrt(mse_train)  # Fixing the variable name here\n",
    "\n",
    "    model_metrics = {'Algorithm': str(model).split('(')[0],\n",
    "                     'R2_train': r2_train,\n",
    "                     'R2_test': r2_test,\n",
    "                      'Mean Absolute Error_train': mae_train,\n",
    "                     'Mean Absolute Error_test': mae_test,\n",
    "                     'Mean Squared Error_train': mse_train,\n",
    "                     'Mean Squared Error_test': mse_test,\n",
    "                     'Root Mean Squared Error_train': rmse_train,\n",
    "                     'Root Mean Squared Error_test': rmse_test}\n",
    "                     \n",
    "\n",
    "    metrics_list.append(model_metrics)"
   ]
  },
  {
   "cell_type": "code",
   "execution_count": 103,
   "id": "241f1295",
   "metadata": {},
   "outputs": [],
   "source": [
    "best_models = pd.DataFrame(metrics_list)"
   ]
  },
  {
   "cell_type": "code",
   "execution_count": 104,
   "id": "0bb1a66f",
   "metadata": {},
   "outputs": [
    {
     "data": {
      "text/html": [
       "<div>\n",
       "<style scoped>\n",
       "    .dataframe tbody tr th:only-of-type {\n",
       "        vertical-align: middle;\n",
       "    }\n",
       "\n",
       "    .dataframe tbody tr th {\n",
       "        vertical-align: top;\n",
       "    }\n",
       "\n",
       "    .dataframe thead th {\n",
       "        text-align: right;\n",
       "    }\n",
       "</style>\n",
       "<table border=\"1\" class=\"dataframe\">\n",
       "  <thead>\n",
       "    <tr style=\"text-align: right;\">\n",
       "      <th></th>\n",
       "      <th>Algorithm</th>\n",
       "      <th>R2_train</th>\n",
       "      <th>R2_test</th>\n",
       "      <th>Mean Absolute Error_train</th>\n",
       "      <th>Mean Absolute Error_test</th>\n",
       "      <th>Mean Squared Error_train</th>\n",
       "      <th>Mean Squared Error_test</th>\n",
       "      <th>Root Mean Squared Error_train</th>\n",
       "      <th>Root Mean Squared Error_test</th>\n",
       "    </tr>\n",
       "  </thead>\n",
       "  <tbody>\n",
       "    <tr>\n",
       "      <th>0</th>\n",
       "      <td>RandomForestRegressor</td>\n",
       "      <td>0.986823</td>\n",
       "      <td>0.934667</td>\n",
       "      <td>4.325213</td>\n",
       "      <td>10.715369</td>\n",
       "      <td>0.413416</td>\n",
       "      <td>2.136047</td>\n",
       "      <td>0.642974</td>\n",
       "      <td>1.461522</td>\n",
       "    </tr>\n",
       "    <tr>\n",
       "      <th>1</th>\n",
       "      <td>DecisionTreeRegressor</td>\n",
       "      <td>0.996674</td>\n",
       "      <td>0.886416</td>\n",
       "      <td>0.632009</td>\n",
       "      <td>12.580241</td>\n",
       "      <td>0.104367</td>\n",
       "      <td>3.713600</td>\n",
       "      <td>0.323059</td>\n",
       "      <td>1.927070</td>\n",
       "    </tr>\n",
       "    <tr>\n",
       "      <th>2</th>\n",
       "      <td>KNeighborsRegressor</td>\n",
       "      <td>0.665893</td>\n",
       "      <td>0.494579</td>\n",
       "      <td>13.820724</td>\n",
       "      <td>17.510095</td>\n",
       "      <td>10.482492</td>\n",
       "      <td>16.524640</td>\n",
       "      <td>3.237668</td>\n",
       "      <td>4.065051</td>\n",
       "    </tr>\n",
       "  </tbody>\n",
       "</table>\n",
       "</div>"
      ],
      "text/plain": [
       "               Algorithm  R2_train   R2_test  Mean Absolute Error_train  \\\n",
       "0  RandomForestRegressor  0.986823  0.934667                   4.325213   \n",
       "1  DecisionTreeRegressor  0.996674  0.886416                   0.632009   \n",
       "2    KNeighborsRegressor  0.665893  0.494579                  13.820724   \n",
       "\n",
       "   Mean Absolute Error_test  Mean Squared Error_train  \\\n",
       "0                 10.715369                  0.413416   \n",
       "1                 12.580241                  0.104367   \n",
       "2                 17.510095                 10.482492   \n",
       "\n",
       "   Mean Squared Error_test  Root Mean Squared Error_train  \\\n",
       "0                 2.136047                       0.642974   \n",
       "1                 3.713600                       0.323059   \n",
       "2                16.524640                       3.237668   \n",
       "\n",
       "   Root Mean Squared Error_test  \n",
       "0                      1.461522  \n",
       "1                      1.927070  \n",
       "2                      4.065051  "
      ]
     },
     "execution_count": 104,
     "metadata": {},
     "output_type": "execute_result"
    }
   ],
   "source": [
    "best_models"
   ]
  },
  {
   "cell_type": "markdown",
   "id": "54b922c1",
   "metadata": {},
   "source": [
    "#### Hyperparameter Tuning"
   ]
  },
  {
   "cell_type": "code",
   "execution_count": 69,
   "id": "3c44cc1b",
   "metadata": {},
   "outputs": [
    {
     "name": "stdout",
     "output_type": "stream",
     "text": [
      "Fitting 5 folds for each of 81 candidates, totalling 405 fits\n",
      "Best Cross-validated Parameters:  {'max_depth': 20, 'max_features': None, 'min_samples_split': 8, 'n_estimators': 200}\n",
      "Best Cross-validated Score:  0.926513099020152\n"
     ]
    }
   ],
   "source": [
    "from sklearn.model_selection import GridSearchCV\n",
    "from sklearn.ensemble import RandomForestRegressor\n",
    "\n",
    "param_grid = {\n",
    "    'n_estimators': [50, 100, 200],\n",
    "    'max_features': [None, 'sqrt', 'log2'],\n",
    "    'max_depth': [None, 10, 20],\n",
    "    'min_samples_split': [2, 4, 8],\n",
    "}\n",
    "\n",
    "rf = RandomForestRegressor()\n",
    "x_train_rg, x_test_rg, y_train_rg, y_test_rg = train_test_split( x, y, test_size=0.30, random_state=42)\n",
    "\n",
    "grid_search = GridSearchCV(estimator=rf, param_grid=param_grid, cv=5 , n_jobs=-1, verbose=3)\n",
    "grid_search.fit(x_train_rg, y_train_rg)\n",
    "\n",
    "\n",
    "print(\"Best Cross-validated Parameters: \", grid_search.best_params_)\n",
    "print(\"Best Cross-validated Score: \", grid_search.best_score_)"
   ]
  },
  {
   "cell_type": "code",
   "execution_count": 70,
   "id": "ea394eaa",
   "metadata": {},
   "outputs": [
    {
     "data": {
      "text/html": [
       "<style>#sk-container-id-1 {color: black;}#sk-container-id-1 pre{padding: 0;}#sk-container-id-1 div.sk-toggleable {background-color: white;}#sk-container-id-1 label.sk-toggleable__label {cursor: pointer;display: block;width: 100%;margin-bottom: 0;padding: 0.3em;box-sizing: border-box;text-align: center;}#sk-container-id-1 label.sk-toggleable__label-arrow:before {content: \"▸\";float: left;margin-right: 0.25em;color: #696969;}#sk-container-id-1 label.sk-toggleable__label-arrow:hover:before {color: black;}#sk-container-id-1 div.sk-estimator:hover label.sk-toggleable__label-arrow:before {color: black;}#sk-container-id-1 div.sk-toggleable__content {max-height: 0;max-width: 0;overflow: hidden;text-align: left;background-color: #f0f8ff;}#sk-container-id-1 div.sk-toggleable__content pre {margin: 0.2em;color: black;border-radius: 0.25em;background-color: #f0f8ff;}#sk-container-id-1 input.sk-toggleable__control:checked~div.sk-toggleable__content {max-height: 200px;max-width: 100%;overflow: auto;}#sk-container-id-1 input.sk-toggleable__control:checked~label.sk-toggleable__label-arrow:before {content: \"▾\";}#sk-container-id-1 div.sk-estimator input.sk-toggleable__control:checked~label.sk-toggleable__label {background-color: #d4ebff;}#sk-container-id-1 div.sk-label input.sk-toggleable__control:checked~label.sk-toggleable__label {background-color: #d4ebff;}#sk-container-id-1 input.sk-hidden--visually {border: 0;clip: rect(1px 1px 1px 1px);clip: rect(1px, 1px, 1px, 1px);height: 1px;margin: -1px;overflow: hidden;padding: 0;position: absolute;width: 1px;}#sk-container-id-1 div.sk-estimator {font-family: monospace;background-color: #f0f8ff;border: 1px dotted black;border-radius: 0.25em;box-sizing: border-box;margin-bottom: 0.5em;}#sk-container-id-1 div.sk-estimator:hover {background-color: #d4ebff;}#sk-container-id-1 div.sk-parallel-item::after {content: \"\";width: 100%;border-bottom: 1px solid gray;flex-grow: 1;}#sk-container-id-1 div.sk-label:hover label.sk-toggleable__label {background-color: #d4ebff;}#sk-container-id-1 div.sk-serial::before {content: \"\";position: absolute;border-left: 1px solid gray;box-sizing: border-box;top: 0;bottom: 0;left: 50%;z-index: 0;}#sk-container-id-1 div.sk-serial {display: flex;flex-direction: column;align-items: center;background-color: white;padding-right: 0.2em;padding-left: 0.2em;position: relative;}#sk-container-id-1 div.sk-item {position: relative;z-index: 1;}#sk-container-id-1 div.sk-parallel {display: flex;align-items: stretch;justify-content: center;background-color: white;position: relative;}#sk-container-id-1 div.sk-item::before, #sk-container-id-1 div.sk-parallel-item::before {content: \"\";position: absolute;border-left: 1px solid gray;box-sizing: border-box;top: 0;bottom: 0;left: 50%;z-index: -1;}#sk-container-id-1 div.sk-parallel-item {display: flex;flex-direction: column;z-index: 1;position: relative;background-color: white;}#sk-container-id-1 div.sk-parallel-item:first-child::after {align-self: flex-end;width: 50%;}#sk-container-id-1 div.sk-parallel-item:last-child::after {align-self: flex-start;width: 50%;}#sk-container-id-1 div.sk-parallel-item:only-child::after {width: 0;}#sk-container-id-1 div.sk-dashed-wrapped {border: 1px dashed gray;margin: 0 0.4em 0.5em 0.4em;box-sizing: border-box;padding-bottom: 0.4em;background-color: white;}#sk-container-id-1 div.sk-label label {font-family: monospace;font-weight: bold;display: inline-block;line-height: 1.2em;}#sk-container-id-1 div.sk-label-container {text-align: center;}#sk-container-id-1 div.sk-container {/* jupyter's `normalize.less` sets `[hidden] { display: none; }` but bootstrap.min.css set `[hidden] { display: none !important; }` so we also need the `!important` here to be able to override the default hidden behavior on the sphinx rendered scikit-learn.org. See: https://github.com/scikit-learn/scikit-learn/issues/21755 */display: inline-block !important;position: relative;}#sk-container-id-1 div.sk-text-repr-fallback {display: none;}</style><div id=\"sk-container-id-1\" class=\"sk-top-container\"><div class=\"sk-text-repr-fallback\"><pre>RandomForestRegressor(max_depth=20, max_features=None, min_samples_split=8,\n",
       "                      n_estimators=200)</pre><b>In a Jupyter environment, please rerun this cell to show the HTML representation or trust the notebook. <br />On GitHub, the HTML representation is unable to render, please try loading this page with nbviewer.org.</b></div><div class=\"sk-container\" hidden><div class=\"sk-item\"><div class=\"sk-estimator sk-toggleable\"><input class=\"sk-toggleable__control sk-hidden--visually\" id=\"sk-estimator-id-1\" type=\"checkbox\" checked><label for=\"sk-estimator-id-1\" class=\"sk-toggleable__label sk-toggleable__label-arrow\">RandomForestRegressor</label><div class=\"sk-toggleable__content\"><pre>RandomForestRegressor(max_depth=20, max_features=None, min_samples_split=8,\n",
       "                      n_estimators=200)</pre></div></div></div></div></div>"
      ],
      "text/plain": [
       "RandomForestRegressor(max_depth=20, max_features=None, min_samples_split=8,\n",
       "                      n_estimators=200)"
      ]
     },
     "execution_count": 70,
     "metadata": {},
     "output_type": "execute_result"
    }
   ],
   "source": [
    "rf_rg = RandomForestRegressor(n_estimators = 200, min_samples_split = 8, max_depth = 20, max_features = None)\n",
    "rf_rg.fit(x_train_rg,y_train_rg)"
   ]
  },
  {
   "cell_type": "code",
   "execution_count": 71,
   "id": "ede30987",
   "metadata": {},
   "outputs": [],
   "source": [
    "x_pred_rg=rf_rg.predict(x_train_rg)"
   ]
  },
  {
   "cell_type": "code",
   "execution_count": 72,
   "id": "79ee0231",
   "metadata": {},
   "outputs": [],
   "source": [
    "y_pred_rg=rf_rg.predict(x_test_rg)"
   ]
  },
  {
   "cell_type": "code",
   "execution_count": 73,
   "id": "4eac61a2",
   "metadata": {},
   "outputs": [
    {
     "data": {
      "text/plain": [
       "0.02002712149113177"
      ]
     },
     "execution_count": 73,
     "metadata": {},
     "output_type": "execute_result"
    }
   ],
   "source": [
    "metrics.mean_squared_error(y_test_rg,y_pred_rg)"
   ]
  },
  {
   "cell_type": "code",
   "execution_count": 74,
   "id": "c6418cba",
   "metadata": {},
   "outputs": [
    {
     "data": {
      "text/plain": [
       "0.10788788851759709"
      ]
     },
     "execution_count": 74,
     "metadata": {},
     "output_type": "execute_result"
    }
   ],
   "source": [
    "metrics.mean_absolute_error(y_test_rg, y_pred_rg)"
   ]
  },
  {
   "cell_type": "code",
   "execution_count": 75,
   "id": "0d29a827",
   "metadata": {},
   "outputs": [
    {
     "name": "stdout",
     "output_type": "stream",
     "text": [
      "0.9620606172254446\n"
     ]
    }
   ],
   "source": [
    "print(metrics.r2_score(y_train_rg, x_pred_rg))"
   ]
  },
  {
   "cell_type": "code",
   "execution_count": 76,
   "id": "c4769677",
   "metadata": {},
   "outputs": [
    {
     "name": "stdout",
     "output_type": "stream",
     "text": [
      "0.9387452179880557\n"
     ]
    }
   ],
   "source": [
    "print(metrics.r2_score(y_test_rg,y_pred_rg))"
   ]
  },
  {
   "cell_type": "code",
   "execution_count": 78,
   "id": "abaa70be",
   "metadata": {},
   "outputs": [],
   "source": [
    "# Saving the model in pickel file\n",
    "\n",
    "import pickle\n",
    "with open('RegressorModel_Selling_Price_Predt.pkl', 'wb') as file:\n",
    "    pickle.dump(rf_rg, file)"
   ]
  },
  {
   "cell_type": "code",
   "execution_count": 79,
   "id": "4368d5ef",
   "metadata": {},
   "outputs": [],
   "source": [
    "# Loading the  regressor model \n",
    "with open('RegressorModel_selling_Price_Predt.pkl','rb') as file:\n",
    "    reg_mod= pickle.load(file)\n"
   ]
  },
  {
   "cell_type": "code",
   "execution_count": 81,
   "id": "34c706cf",
   "metadata": {},
   "outputs": [
    {
     "data": {
      "text/html": [
       "<div>\n",
       "<style scoped>\n",
       "    .dataframe tbody tr th:only-of-type {\n",
       "        vertical-align: middle;\n",
       "    }\n",
       "\n",
       "    .dataframe tbody tr th {\n",
       "        vertical-align: top;\n",
       "    }\n",
       "\n",
       "    .dataframe thead th {\n",
       "        text-align: right;\n",
       "    }\n",
       "</style>\n",
       "<table border=\"1\" class=\"dataframe\">\n",
       "  <thead>\n",
       "    <tr style=\"text-align: right;\">\n",
       "      <th></th>\n",
       "      <th>quantity tons</th>\n",
       "      <th>customer</th>\n",
       "      <th>country</th>\n",
       "      <th>status</th>\n",
       "      <th>item type</th>\n",
       "      <th>application</th>\n",
       "      <th>thickness</th>\n",
       "      <th>width</th>\n",
       "      <th>product_ref</th>\n",
       "    </tr>\n",
       "  </thead>\n",
       "  <tbody>\n",
       "    <tr>\n",
       "      <th>0</th>\n",
       "      <td>54.151139</td>\n",
       "      <td>30156308.0</td>\n",
       "      <td>28.0</td>\n",
       "      <td>0</td>\n",
       "      <td>0</td>\n",
       "      <td>10.0</td>\n",
       "      <td>2.0</td>\n",
       "      <td>1500.0</td>\n",
       "      <td>1670798778</td>\n",
       "    </tr>\n",
       "  </tbody>\n",
       "</table>\n",
       "</div>"
      ],
      "text/plain": [
       "   quantity tons    customer  country  status  item type  application  \\\n",
       "0      54.151139  30156308.0     28.0       0          0         10.0   \n",
       "\n",
       "   thickness   width  product_ref  \n",
       "0        2.0  1500.0   1670798778  "
      ]
     },
     "execution_count": 81,
     "metadata": {},
     "output_type": "execute_result"
    }
   ],
   "source": [
    "x.head(1)"
   ]
  },
  {
   "cell_type": "code",
   "execution_count": 82,
   "id": "b578112f",
   "metadata": {},
   "outputs": [],
   "source": [
    "array=[[54.151139,30156308.0,28.0,0,0,10.0,2.0,1500.0,1670798778]]"
   ]
  },
  {
   "cell_type": "code",
   "execution_count": 83,
   "id": "c857d2f2",
   "metadata": {},
   "outputs": [
    {
     "data": {
      "text/plain": [
       "[[54.151139, 30156308.0, 28.0, 0, 0, 10.0, 2.0, 1500.0, 1670798778]]"
      ]
     },
     "execution_count": 83,
     "metadata": {},
     "output_type": "execute_result"
    }
   ],
   "source": [
    "array"
   ]
  },
  {
   "cell_type": "code",
   "execution_count": 84,
   "id": "a7c99ef4",
   "metadata": {},
   "outputs": [
    {
     "data": {
      "text/plain": [
       "6.74993119378857"
      ]
     },
     "execution_count": 84,
     "metadata": {},
     "output_type": "execute_result"
    }
   ],
   "source": [
    "y[0]  #Actuall"
   ]
  },
  {
   "cell_type": "code",
   "execution_count": 85,
   "id": "1be16c64",
   "metadata": {},
   "outputs": [
    {
     "name": "stdout",
     "output_type": "stream",
     "text": [
      "[6.58880242]\n"
     ]
    }
   ],
   "source": [
    "# Predicted\n",
    "result=reg_mod.predict(array)\n",
    "print(result) "
   ]
  },
  {
   "cell_type": "markdown",
   "id": "f4cbba75",
   "metadata": {},
   "source": [
    "#### Actual Value Is 6.74993119378857 Random Foreset Predict it as 6.59852939"
   ]
  },
  {
   "cell_type": "markdown",
   "id": "6c1df028",
   "metadata": {},
   "source": [
    "# Classification Model"
   ]
  },
  {
   "cell_type": "code",
   "execution_count": 65,
   "id": "4dbd49b6",
   "metadata": {},
   "outputs": [],
   "source": [
    "from sklearn.tree import DecisionTreeClassifier\n",
    "from sklearn.ensemble import RandomForestClassifier\n",
    "from sklearn.neighbors import KNeighborsClassifier\n",
    "from sklearn.metrics import accuracy_score, confusion_matrix, precision_score, recall_score, f1_score,classification_report,roc_curve,roc_auc_score\n",
    "from imblearn.over_sampling import SMOTE"
   ]
  },
  {
   "cell_type": "code",
   "execution_count": 66,
   "id": "776108f3",
   "metadata": {},
   "outputs": [
    {
     "data": {
      "text/html": [
       "<div>\n",
       "<style scoped>\n",
       "    .dataframe tbody tr th:only-of-type {\n",
       "        vertical-align: middle;\n",
       "    }\n",
       "\n",
       "    .dataframe tbody tr th {\n",
       "        vertical-align: top;\n",
       "    }\n",
       "\n",
       "    .dataframe thead th {\n",
       "        text-align: right;\n",
       "    }\n",
       "</style>\n",
       "<table border=\"1\" class=\"dataframe\">\n",
       "  <thead>\n",
       "    <tr style=\"text-align: right;\">\n",
       "      <th></th>\n",
       "      <th>quantity tons</th>\n",
       "      <th>customer</th>\n",
       "      <th>country</th>\n",
       "      <th>status</th>\n",
       "      <th>item type</th>\n",
       "      <th>application</th>\n",
       "      <th>thickness</th>\n",
       "      <th>width</th>\n",
       "      <th>product_ref</th>\n",
       "      <th>selling_price</th>\n",
       "      <th>selling_price_log</th>\n",
       "    </tr>\n",
       "  </thead>\n",
       "  <tbody>\n",
       "    <tr>\n",
       "      <th>0</th>\n",
       "      <td>54.151139</td>\n",
       "      <td>30156308.0</td>\n",
       "      <td>28.0</td>\n",
       "      <td>0</td>\n",
       "      <td>0</td>\n",
       "      <td>10.0</td>\n",
       "      <td>2.00</td>\n",
       "      <td>1500.00</td>\n",
       "      <td>1670798778</td>\n",
       "      <td>854.00</td>\n",
       "      <td>6.749931</td>\n",
       "    </tr>\n",
       "    <tr>\n",
       "      <th>1</th>\n",
       "      <td>151.450919</td>\n",
       "      <td>30202938.0</td>\n",
       "      <td>25.0</td>\n",
       "      <td>0</td>\n",
       "      <td>0</td>\n",
       "      <td>41.0</td>\n",
       "      <td>0.80</td>\n",
       "      <td>1210.00</td>\n",
       "      <td>1668701718</td>\n",
       "      <td>1047.00</td>\n",
       "      <td>6.953684</td>\n",
       "    </tr>\n",
       "    <tr>\n",
       "      <th>2</th>\n",
       "      <td>151.450919</td>\n",
       "      <td>30153963.0</td>\n",
       "      <td>30.0</td>\n",
       "      <td>0</td>\n",
       "      <td>1</td>\n",
       "      <td>28.0</td>\n",
       "      <td>0.38</td>\n",
       "      <td>952.00</td>\n",
       "      <td>628377</td>\n",
       "      <td>644.33</td>\n",
       "      <td>6.468211</td>\n",
       "    </tr>\n",
       "    <tr>\n",
       "      <th>3</th>\n",
       "      <td>151.450919</td>\n",
       "      <td>30349574.0</td>\n",
       "      <td>32.0</td>\n",
       "      <td>0</td>\n",
       "      <td>2</td>\n",
       "      <td>59.0</td>\n",
       "      <td>2.30</td>\n",
       "      <td>1317.00</td>\n",
       "      <td>1668701718</td>\n",
       "      <td>768.00</td>\n",
       "      <td>6.643790</td>\n",
       "    </tr>\n",
       "    <tr>\n",
       "      <th>4</th>\n",
       "      <td>151.450919</td>\n",
       "      <td>30211560.0</td>\n",
       "      <td>28.0</td>\n",
       "      <td>0</td>\n",
       "      <td>0</td>\n",
       "      <td>10.0</td>\n",
       "      <td>4.00</td>\n",
       "      <td>1980.75</td>\n",
       "      <td>640665</td>\n",
       "      <td>577.00</td>\n",
       "      <td>6.357842</td>\n",
       "    </tr>\n",
       "  </tbody>\n",
       "</table>\n",
       "</div>"
      ],
      "text/plain": [
       "   quantity tons    customer  country  status  item type  application  \\\n",
       "0      54.151139  30156308.0     28.0       0          0         10.0   \n",
       "1     151.450919  30202938.0     25.0       0          0         41.0   \n",
       "2     151.450919  30153963.0     30.0       0          1         28.0   \n",
       "3     151.450919  30349574.0     32.0       0          2         59.0   \n",
       "4     151.450919  30211560.0     28.0       0          0         10.0   \n",
       "\n",
       "   thickness    width  product_ref  selling_price  selling_price_log  \n",
       "0       2.00  1500.00   1670798778         854.00           6.749931  \n",
       "1       0.80  1210.00   1668701718        1047.00           6.953684  \n",
       "2       0.38   952.00       628377         644.33           6.468211  \n",
       "3       2.30  1317.00   1668701718         768.00           6.643790  \n",
       "4       4.00  1980.75       640665         577.00           6.357842  "
      ]
     },
     "execution_count": 66,
     "metadata": {},
     "output_type": "execute_result"
    }
   ],
   "source": [
    "df.head()"
   ]
  },
  {
   "cell_type": "code",
   "execution_count": 67,
   "id": "ffd24e2c",
   "metadata": {},
   "outputs": [
    {
     "data": {
      "text/plain": [
       "(181627, 11)"
      ]
     },
     "execution_count": 67,
     "metadata": {},
     "output_type": "execute_result"
    }
   ],
   "source": [
    "df.shape"
   ]
  },
  {
   "cell_type": "code",
   "execution_count": 68,
   "id": "4245055d",
   "metadata": {},
   "outputs": [
    {
     "data": {
      "text/plain": [
       "array([0, 1, 2, 3, 4, 5, 6, 7, 8], dtype=int64)"
      ]
     },
     "execution_count": 68,
     "metadata": {},
     "output_type": "execute_result"
    }
   ],
   "source": [
    "df['status'].unique()"
   ]
  },
  {
   "cell_type": "raw",
   "id": "75c389cd",
   "metadata": {},
   "source": [
    "# Catgorical data\n",
    "# 'Won': 0\n",
    "# 'Draft': 1\n",
    "# 'To be approved': 2\n",
    "# 'Lost': 3\n",
    "# 'Not lost for AM': 4\n",
    "# 'Wonderful': 5\n",
    "# 'Revised': 6\n",
    "# 'Offered': 7\n",
    "# 'Offerable': 8"
   ]
  },
  {
   "cell_type": "markdown",
   "id": "2a2d4fca",
   "metadata": {},
   "source": [
    "#### 'Won': 0 ; 'Lost': 3"
   ]
  },
  {
   "cell_type": "code",
   "execution_count": 69,
   "id": "48cd570c",
   "metadata": {},
   "outputs": [
    {
     "data": {
      "text/plain": [
       "150432"
      ]
     },
     "execution_count": 69,
     "metadata": {},
     "output_type": "execute_result"
    }
   ],
   "source": [
    "df_cls = df[df['status'].isin([0,3])]\n",
    "len(df_cls)"
   ]
  },
  {
   "cell_type": "code",
   "execution_count": 70,
   "id": "e65d9677",
   "metadata": {},
   "outputs": [
    {
     "data": {
      "text/plain": [
       "status\n",
       "0    115999\n",
       "3     34433\n",
       "Name: count, dtype: int64"
      ]
     },
     "execution_count": 70,
     "metadata": {},
     "output_type": "execute_result"
    }
   ],
   "source": [
    "df_cls['status'].value_counts()"
   ]
  },
  {
   "cell_type": "code",
   "execution_count": 71,
   "id": "86fbf587",
   "metadata": {},
   "outputs": [
    {
     "data": {
      "text/plain": [
       "status\n",
       "0    0.771106\n",
       "3    0.228894\n",
       "Name: proportion, dtype: float64"
      ]
     },
     "execution_count": 71,
     "metadata": {},
     "output_type": "execute_result"
    }
   ],
   "source": [
    "df_cls['status'].value_counts(normalize=True)"
   ]
  },
  {
   "cell_type": "code",
   "execution_count": 72,
   "id": "94193ce6",
   "metadata": {},
   "outputs": [],
   "source": [
    "df_cls['status'].replace(3 , 1, inplace=True)"
   ]
  },
  {
   "cell_type": "code",
   "execution_count": 73,
   "id": "94b5325b",
   "metadata": {},
   "outputs": [
    {
     "data": {
      "text/plain": [
       "status\n",
       "0    115999\n",
       "1     34433\n",
       "Name: count, dtype: int64"
      ]
     },
     "execution_count": 73,
     "metadata": {},
     "output_type": "execute_result"
    }
   ],
   "source": [
    "df_cls['status'].value_counts() # 0 --> WON, 1 --> LOST"
   ]
  },
  {
   "cell_type": "code",
   "execution_count": 74,
   "id": "e74011f1",
   "metadata": {},
   "outputs": [],
   "source": [
    "x = df_cls.drop('status', axis=1)\n",
    "y = df_cls['status']"
   ]
  },
  {
   "cell_type": "code",
   "execution_count": 75,
   "id": "cb9505e4",
   "metadata": {},
   "outputs": [],
   "source": [
    "sm = SMOTE(sampling_strategy=.45,random_state=42)\n",
    "X_train_resample, y_train_resample = sm.fit_resample(x, y)"
   ]
  },
  {
   "cell_type": "code",
   "execution_count": 76,
   "id": "6440f77e",
   "metadata": {},
   "outputs": [
    {
     "data": {
      "text/plain": [
       "status\n",
       "0    115999\n",
       "1     52199\n",
       "Name: count, dtype: int64"
      ]
     },
     "execution_count": 76,
     "metadata": {},
     "output_type": "execute_result"
    }
   ],
   "source": [
    "y_train_resample.value_counts()"
   ]
  },
  {
   "cell_type": "code",
   "execution_count": 77,
   "id": "f67cf65b",
   "metadata": {},
   "outputs": [
    {
     "data": {
      "text/html": [
       "<div>\n",
       "<style scoped>\n",
       "    .dataframe tbody tr th:only-of-type {\n",
       "        vertical-align: middle;\n",
       "    }\n",
       "\n",
       "    .dataframe tbody tr th {\n",
       "        vertical-align: top;\n",
       "    }\n",
       "\n",
       "    .dataframe thead th {\n",
       "        text-align: right;\n",
       "    }\n",
       "</style>\n",
       "<table border=\"1\" class=\"dataframe\">\n",
       "  <thead>\n",
       "    <tr style=\"text-align: right;\">\n",
       "      <th></th>\n",
       "      <th>quantity tons</th>\n",
       "      <th>customer</th>\n",
       "      <th>country</th>\n",
       "      <th>item type</th>\n",
       "      <th>application</th>\n",
       "      <th>thickness</th>\n",
       "      <th>width</th>\n",
       "      <th>product_ref</th>\n",
       "      <th>selling_price</th>\n",
       "      <th>selling_price_log</th>\n",
       "    </tr>\n",
       "  </thead>\n",
       "  <tbody>\n",
       "    <tr>\n",
       "      <th>0</th>\n",
       "      <td>54.151139</td>\n",
       "      <td>30156308.0</td>\n",
       "      <td>28.0</td>\n",
       "      <td>0</td>\n",
       "      <td>10.0</td>\n",
       "      <td>2.000000</td>\n",
       "      <td>1500.00</td>\n",
       "      <td>1670798778</td>\n",
       "      <td>854.000000</td>\n",
       "      <td>6.749931</td>\n",
       "    </tr>\n",
       "    <tr>\n",
       "      <th>1</th>\n",
       "      <td>151.450919</td>\n",
       "      <td>30202938.0</td>\n",
       "      <td>25.0</td>\n",
       "      <td>0</td>\n",
       "      <td>41.0</td>\n",
       "      <td>0.800000</td>\n",
       "      <td>1210.00</td>\n",
       "      <td>1668701718</td>\n",
       "      <td>1047.000000</td>\n",
       "      <td>6.953684</td>\n",
       "    </tr>\n",
       "    <tr>\n",
       "      <th>2</th>\n",
       "      <td>151.450919</td>\n",
       "      <td>30153963.0</td>\n",
       "      <td>30.0</td>\n",
       "      <td>1</td>\n",
       "      <td>28.0</td>\n",
       "      <td>0.380000</td>\n",
       "      <td>952.00</td>\n",
       "      <td>628377</td>\n",
       "      <td>644.330000</td>\n",
       "      <td>6.468211</td>\n",
       "    </tr>\n",
       "    <tr>\n",
       "      <th>3</th>\n",
       "      <td>151.450919</td>\n",
       "      <td>30349574.0</td>\n",
       "      <td>32.0</td>\n",
       "      <td>2</td>\n",
       "      <td>59.0</td>\n",
       "      <td>2.300000</td>\n",
       "      <td>1317.00</td>\n",
       "      <td>1668701718</td>\n",
       "      <td>768.000000</td>\n",
       "      <td>6.643790</td>\n",
       "    </tr>\n",
       "    <tr>\n",
       "      <th>4</th>\n",
       "      <td>151.450919</td>\n",
       "      <td>30211560.0</td>\n",
       "      <td>28.0</td>\n",
       "      <td>0</td>\n",
       "      <td>10.0</td>\n",
       "      <td>4.000000</td>\n",
       "      <td>1980.75</td>\n",
       "      <td>640665</td>\n",
       "      <td>577.000000</td>\n",
       "      <td>6.357842</td>\n",
       "    </tr>\n",
       "    <tr>\n",
       "      <th>...</th>\n",
       "      <td>...</td>\n",
       "      <td>...</td>\n",
       "      <td>...</td>\n",
       "      <td>...</td>\n",
       "      <td>...</td>\n",
       "      <td>...</td>\n",
       "      <td>...</td>\n",
       "      <td>...</td>\n",
       "      <td>...</td>\n",
       "      <td>...</td>\n",
       "    </tr>\n",
       "    <tr>\n",
       "      <th>168193</th>\n",
       "      <td>151.450919</td>\n",
       "      <td>30403833.0</td>\n",
       "      <td>26.0</td>\n",
       "      <td>0</td>\n",
       "      <td>28.0</td>\n",
       "      <td>1.150000</td>\n",
       "      <td>911.00</td>\n",
       "      <td>628377</td>\n",
       "      <td>635.387175</td>\n",
       "      <td>6.454222</td>\n",
       "    </tr>\n",
       "    <tr>\n",
       "      <th>168194</th>\n",
       "      <td>39.507692</td>\n",
       "      <td>30278678.0</td>\n",
       "      <td>77.0</td>\n",
       "      <td>0</td>\n",
       "      <td>15.0</td>\n",
       "      <td>6.450000</td>\n",
       "      <td>1500.00</td>\n",
       "      <td>640405</td>\n",
       "      <td>980.628413</td>\n",
       "      <td>6.887558</td>\n",
       "    </tr>\n",
       "    <tr>\n",
       "      <th>168195</th>\n",
       "      <td>3.110952</td>\n",
       "      <td>30211560.0</td>\n",
       "      <td>28.0</td>\n",
       "      <td>0</td>\n",
       "      <td>10.0</td>\n",
       "      <td>6.175399</td>\n",
       "      <td>1980.75</td>\n",
       "      <td>640665</td>\n",
       "      <td>519.610223</td>\n",
       "      <td>6.253079</td>\n",
       "    </tr>\n",
       "    <tr>\n",
       "      <th>168196</th>\n",
       "      <td>108.895675</td>\n",
       "      <td>30156308.0</td>\n",
       "      <td>28.0</td>\n",
       "      <td>0</td>\n",
       "      <td>10.0</td>\n",
       "      <td>4.905670</td>\n",
       "      <td>1980.75</td>\n",
       "      <td>640665</td>\n",
       "      <td>547.000000</td>\n",
       "      <td>6.304449</td>\n",
       "    </tr>\n",
       "    <tr>\n",
       "      <th>168197</th>\n",
       "      <td>30.995227</td>\n",
       "      <td>30292440.0</td>\n",
       "      <td>84.0</td>\n",
       "      <td>2</td>\n",
       "      <td>15.0</td>\n",
       "      <td>6.340797</td>\n",
       "      <td>1500.00</td>\n",
       "      <td>640405</td>\n",
       "      <td>651.594367</td>\n",
       "      <td>6.478932</td>\n",
       "    </tr>\n",
       "  </tbody>\n",
       "</table>\n",
       "<p>168198 rows × 10 columns</p>\n",
       "</div>"
      ],
      "text/plain": [
       "        quantity tons    customer  country  item type  application  thickness  \\\n",
       "0           54.151139  30156308.0     28.0          0         10.0   2.000000   \n",
       "1          151.450919  30202938.0     25.0          0         41.0   0.800000   \n",
       "2          151.450919  30153963.0     30.0          1         28.0   0.380000   \n",
       "3          151.450919  30349574.0     32.0          2         59.0   2.300000   \n",
       "4          151.450919  30211560.0     28.0          0         10.0   4.000000   \n",
       "...               ...         ...      ...        ...          ...        ...   \n",
       "168193     151.450919  30403833.0     26.0          0         28.0   1.150000   \n",
       "168194      39.507692  30278678.0     77.0          0         15.0   6.450000   \n",
       "168195       3.110952  30211560.0     28.0          0         10.0   6.175399   \n",
       "168196     108.895675  30156308.0     28.0          0         10.0   4.905670   \n",
       "168197      30.995227  30292440.0     84.0          2         15.0   6.340797   \n",
       "\n",
       "          width  product_ref  selling_price  selling_price_log  \n",
       "0       1500.00   1670798778     854.000000           6.749931  \n",
       "1       1210.00   1668701718    1047.000000           6.953684  \n",
       "2        952.00       628377     644.330000           6.468211  \n",
       "3       1317.00   1668701718     768.000000           6.643790  \n",
       "4       1980.75       640665     577.000000           6.357842  \n",
       "...         ...          ...            ...                ...  \n",
       "168193   911.00       628377     635.387175           6.454222  \n",
       "168194  1500.00       640405     980.628413           6.887558  \n",
       "168195  1980.75       640665     519.610223           6.253079  \n",
       "168196  1980.75       640665     547.000000           6.304449  \n",
       "168197  1500.00       640405     651.594367           6.478932  \n",
       "\n",
       "[168198 rows x 10 columns]"
      ]
     },
     "execution_count": 77,
     "metadata": {},
     "output_type": "execute_result"
    }
   ],
   "source": [
    "X_train_resample"
   ]
  },
  {
   "cell_type": "code",
   "execution_count": 78,
   "id": "751026c1",
   "metadata": {},
   "outputs": [
    {
     "data": {
      "text/plain": [
       "status\n",
       "0    0.689657\n",
       "1    0.310343\n",
       "Name: proportion, dtype: float64"
      ]
     },
     "execution_count": 78,
     "metadata": {},
     "output_type": "execute_result"
    }
   ],
   "source": [
    "y_train_resample.value_counts(normalize=True)"
   ]
  },
  {
   "cell_type": "code",
   "execution_count": 79,
   "id": "6e4138a2",
   "metadata": {},
   "outputs": [
    {
     "name": "stdout",
     "output_type": "stream",
     "text": [
      "(150432, 10)\n",
      "(150432,)\n",
      "(168198, 10)\n",
      "(168198,)\n"
     ]
    }
   ],
   "source": [
    "# Orginal Shape of DataSet\n",
    "print(x.shape)\n",
    "print(y.shape)\n",
    "# After Resampling with Somte\n",
    "print(X_train_resample.shape)\n",
    "print(y_train_resample.shape)"
   ]
  },
  {
   "cell_type": "code",
   "execution_count": 83,
   "id": "3215538c",
   "metadata": {},
   "outputs": [],
   "source": [
    "x_train, x_test, y_train, y_test = train_test_split( X_train_resample, y_train_resample, test_size=0.30, random_state=42)"
   ]
  },
  {
   "cell_type": "code",
   "execution_count": 84,
   "id": "a4ec9471",
   "metadata": {},
   "outputs": [
    {
     "data": {
      "text/plain": [
       "((117738, 10), (50460, 10))"
      ]
     },
     "execution_count": 84,
     "metadata": {},
     "output_type": "execute_result"
    }
   ],
   "source": [
    "x_train.shape,x_test.shape"
   ]
  },
  {
   "cell_type": "code",
   "execution_count": 85,
   "id": "fbccfa9a",
   "metadata": {},
   "outputs": [
    {
     "data": {
      "text/html": [
       "<div>\n",
       "<style scoped>\n",
       "    .dataframe tbody tr th:only-of-type {\n",
       "        vertical-align: middle;\n",
       "    }\n",
       "\n",
       "    .dataframe tbody tr th {\n",
       "        vertical-align: top;\n",
       "    }\n",
       "\n",
       "    .dataframe thead th {\n",
       "        text-align: right;\n",
       "    }\n",
       "</style>\n",
       "<table border=\"1\" class=\"dataframe\">\n",
       "  <thead>\n",
       "    <tr style=\"text-align: right;\">\n",
       "      <th></th>\n",
       "      <th>quantity tons</th>\n",
       "      <th>customer</th>\n",
       "      <th>country</th>\n",
       "      <th>item type</th>\n",
       "      <th>application</th>\n",
       "      <th>thickness</th>\n",
       "      <th>width</th>\n",
       "      <th>product_ref</th>\n",
       "      <th>selling_price</th>\n",
       "      <th>selling_price_log</th>\n",
       "    </tr>\n",
       "  </thead>\n",
       "  <tbody>\n",
       "    <tr>\n",
       "      <th>137093</th>\n",
       "      <td>25.937878</td>\n",
       "      <td>30206203.0</td>\n",
       "      <td>26.0</td>\n",
       "      <td>2</td>\n",
       "      <td>41.0</td>\n",
       "      <td>0.30</td>\n",
       "      <td>1240.0</td>\n",
       "      <td>611993</td>\n",
       "      <td>1198.00</td>\n",
       "      <td>7.088409</td>\n",
       "    </tr>\n",
       "    <tr>\n",
       "      <th>10849</th>\n",
       "      <td>9.697097</td>\n",
       "      <td>30160005.0</td>\n",
       "      <td>78.0</td>\n",
       "      <td>0</td>\n",
       "      <td>41.0</td>\n",
       "      <td>1.82</td>\n",
       "      <td>1120.0</td>\n",
       "      <td>164141591</td>\n",
       "      <td>929.00</td>\n",
       "      <td>6.834109</td>\n",
       "    </tr>\n",
       "    <tr>\n",
       "      <th>117163</th>\n",
       "      <td>60.611597</td>\n",
       "      <td>30299349.0</td>\n",
       "      <td>25.0</td>\n",
       "      <td>0</td>\n",
       "      <td>25.0</td>\n",
       "      <td>0.60</td>\n",
       "      <td>1202.0</td>\n",
       "      <td>628377</td>\n",
       "      <td>646.00</td>\n",
       "      <td>6.470800</td>\n",
       "    </tr>\n",
       "    <tr>\n",
       "      <th>143801</th>\n",
       "      <td>49.821416</td>\n",
       "      <td>30405913.0</td>\n",
       "      <td>26.0</td>\n",
       "      <td>2</td>\n",
       "      <td>38.0</td>\n",
       "      <td>2.00</td>\n",
       "      <td>1236.0</td>\n",
       "      <td>164141591</td>\n",
       "      <td>618.00</td>\n",
       "      <td>6.426488</td>\n",
       "    </tr>\n",
       "    <tr>\n",
       "      <th>129314</th>\n",
       "      <td>21.049418</td>\n",
       "      <td>30165992.0</td>\n",
       "      <td>77.0</td>\n",
       "      <td>2</td>\n",
       "      <td>10.0</td>\n",
       "      <td>0.75</td>\n",
       "      <td>1000.0</td>\n",
       "      <td>164141591</td>\n",
       "      <td>620.00</td>\n",
       "      <td>6.429719</td>\n",
       "    </tr>\n",
       "    <tr>\n",
       "      <th>...</th>\n",
       "      <td>...</td>\n",
       "      <td>...</td>\n",
       "      <td>...</td>\n",
       "      <td>...</td>\n",
       "      <td>...</td>\n",
       "      <td>...</td>\n",
       "      <td>...</td>\n",
       "      <td>...</td>\n",
       "      <td>...</td>\n",
       "      <td>...</td>\n",
       "    </tr>\n",
       "    <tr>\n",
       "      <th>119879</th>\n",
       "      <td>6.146746</td>\n",
       "      <td>30196884.0</td>\n",
       "      <td>84.0</td>\n",
       "      <td>0</td>\n",
       "      <td>10.0</td>\n",
       "      <td>1.50</td>\n",
       "      <td>1147.0</td>\n",
       "      <td>164141591</td>\n",
       "      <td>713.41</td>\n",
       "      <td>6.570056</td>\n",
       "    </tr>\n",
       "    <tr>\n",
       "      <th>103694</th>\n",
       "      <td>32.567761</td>\n",
       "      <td>30267268.0</td>\n",
       "      <td>28.0</td>\n",
       "      <td>0</td>\n",
       "      <td>41.0</td>\n",
       "      <td>0.43</td>\n",
       "      <td>1486.0</td>\n",
       "      <td>611993</td>\n",
       "      <td>1101.00</td>\n",
       "      <td>7.003974</td>\n",
       "    </tr>\n",
       "    <tr>\n",
       "      <th>131932</th>\n",
       "      <td>61.262653</td>\n",
       "      <td>30206248.0</td>\n",
       "      <td>26.0</td>\n",
       "      <td>2</td>\n",
       "      <td>15.0</td>\n",
       "      <td>4.00</td>\n",
       "      <td>1500.0</td>\n",
       "      <td>1670798778</td>\n",
       "      <td>562.00</td>\n",
       "      <td>6.331502</td>\n",
       "    </tr>\n",
       "    <tr>\n",
       "      <th>146867</th>\n",
       "      <td>104.561775</td>\n",
       "      <td>30397632.0</td>\n",
       "      <td>78.0</td>\n",
       "      <td>2</td>\n",
       "      <td>10.0</td>\n",
       "      <td>0.50</td>\n",
       "      <td>1250.0</td>\n",
       "      <td>164141591</td>\n",
       "      <td>621.00</td>\n",
       "      <td>6.431331</td>\n",
       "    </tr>\n",
       "    <tr>\n",
       "      <th>121958</th>\n",
       "      <td>108.172476</td>\n",
       "      <td>30162405.0</td>\n",
       "      <td>84.0</td>\n",
       "      <td>0</td>\n",
       "      <td>79.0</td>\n",
       "      <td>0.60</td>\n",
       "      <td>1500.0</td>\n",
       "      <td>164141591</td>\n",
       "      <td>741.00</td>\n",
       "      <td>6.608001</td>\n",
       "    </tr>\n",
       "  </tbody>\n",
       "</table>\n",
       "<p>117738 rows × 10 columns</p>\n",
       "</div>"
      ],
      "text/plain": [
       "        quantity tons    customer  country  item type  application  thickness  \\\n",
       "137093      25.937878  30206203.0     26.0          2         41.0       0.30   \n",
       "10849        9.697097  30160005.0     78.0          0         41.0       1.82   \n",
       "117163      60.611597  30299349.0     25.0          0         25.0       0.60   \n",
       "143801      49.821416  30405913.0     26.0          2         38.0       2.00   \n",
       "129314      21.049418  30165992.0     77.0          2         10.0       0.75   \n",
       "...               ...         ...      ...        ...          ...        ...   \n",
       "119879       6.146746  30196884.0     84.0          0         10.0       1.50   \n",
       "103694      32.567761  30267268.0     28.0          0         41.0       0.43   \n",
       "131932      61.262653  30206248.0     26.0          2         15.0       4.00   \n",
       "146867     104.561775  30397632.0     78.0          2         10.0       0.50   \n",
       "121958     108.172476  30162405.0     84.0          0         79.0       0.60   \n",
       "\n",
       "         width  product_ref  selling_price  selling_price_log  \n",
       "137093  1240.0       611993        1198.00           7.088409  \n",
       "10849   1120.0    164141591         929.00           6.834109  \n",
       "117163  1202.0       628377         646.00           6.470800  \n",
       "143801  1236.0    164141591         618.00           6.426488  \n",
       "129314  1000.0    164141591         620.00           6.429719  \n",
       "...        ...          ...            ...                ...  \n",
       "119879  1147.0    164141591         713.41           6.570056  \n",
       "103694  1486.0       611993        1101.00           7.003974  \n",
       "131932  1500.0   1670798778         562.00           6.331502  \n",
       "146867  1250.0    164141591         621.00           6.431331  \n",
       "121958  1500.0    164141591         741.00           6.608001  \n",
       "\n",
       "[117738 rows x 10 columns]"
      ]
     },
     "execution_count": 85,
     "metadata": {},
     "output_type": "execute_result"
    }
   ],
   "source": [
    "x_train"
   ]
  },
  {
   "cell_type": "code",
   "execution_count": 86,
   "id": "abfbdc66",
   "metadata": {},
   "outputs": [
    {
     "data": {
      "text/html": [
       "<div>\n",
       "<style scoped>\n",
       "    .dataframe tbody tr th:only-of-type {\n",
       "        vertical-align: middle;\n",
       "    }\n",
       "\n",
       "    .dataframe tbody tr th {\n",
       "        vertical-align: top;\n",
       "    }\n",
       "\n",
       "    .dataframe thead th {\n",
       "        text-align: right;\n",
       "    }\n",
       "</style>\n",
       "<table border=\"1\" class=\"dataframe\">\n",
       "  <thead>\n",
       "    <tr style=\"text-align: right;\">\n",
       "      <th></th>\n",
       "      <th>quantity tons</th>\n",
       "      <th>customer</th>\n",
       "      <th>country</th>\n",
       "      <th>item type</th>\n",
       "      <th>application</th>\n",
       "      <th>thickness</th>\n",
       "      <th>width</th>\n",
       "      <th>product_ref</th>\n",
       "      <th>selling_price</th>\n",
       "      <th>selling_price_log</th>\n",
       "    </tr>\n",
       "  </thead>\n",
       "  <tbody>\n",
       "    <tr>\n",
       "      <th>146439</th>\n",
       "      <td>22.072053</td>\n",
       "      <td>30205825.0</td>\n",
       "      <td>25.0</td>\n",
       "      <td>0</td>\n",
       "      <td>10.0</td>\n",
       "      <td>1.250000</td>\n",
       "      <td>1705.00</td>\n",
       "      <td>1693867550</td>\n",
       "      <td>595.000000</td>\n",
       "      <td>6.388561</td>\n",
       "    </tr>\n",
       "    <tr>\n",
       "      <th>44033</th>\n",
       "      <td>65.368039</td>\n",
       "      <td>30157111.0</td>\n",
       "      <td>78.0</td>\n",
       "      <td>0</td>\n",
       "      <td>41.0</td>\n",
       "      <td>0.880000</td>\n",
       "      <td>1500.00</td>\n",
       "      <td>611993</td>\n",
       "      <td>986.000000</td>\n",
       "      <td>6.893656</td>\n",
       "    </tr>\n",
       "    <tr>\n",
       "      <th>49435</th>\n",
       "      <td>4.977580</td>\n",
       "      <td>30232042.0</td>\n",
       "      <td>28.0</td>\n",
       "      <td>0</td>\n",
       "      <td>41.0</td>\n",
       "      <td>0.500000</td>\n",
       "      <td>1250.00</td>\n",
       "      <td>611993</td>\n",
       "      <td>1075.000000</td>\n",
       "      <td>6.980076</td>\n",
       "    </tr>\n",
       "    <tr>\n",
       "      <th>152661</th>\n",
       "      <td>151.450919</td>\n",
       "      <td>30202645.0</td>\n",
       "      <td>32.0</td>\n",
       "      <td>0</td>\n",
       "      <td>10.0</td>\n",
       "      <td>1.291464</td>\n",
       "      <td>1295.00</td>\n",
       "      <td>628377</td>\n",
       "      <td>861.447147</td>\n",
       "      <td>6.758572</td>\n",
       "    </tr>\n",
       "    <tr>\n",
       "      <th>97396</th>\n",
       "      <td>26.558580</td>\n",
       "      <td>30272192.0</td>\n",
       "      <td>28.0</td>\n",
       "      <td>2</td>\n",
       "      <td>41.0</td>\n",
       "      <td>0.550000</td>\n",
       "      <td>1250.00</td>\n",
       "      <td>611993</td>\n",
       "      <td>1018.000000</td>\n",
       "      <td>6.925595</td>\n",
       "    </tr>\n",
       "    <tr>\n",
       "      <th>...</th>\n",
       "      <td>...</td>\n",
       "      <td>...</td>\n",
       "      <td>...</td>\n",
       "      <td>...</td>\n",
       "      <td>...</td>\n",
       "      <td>...</td>\n",
       "      <td>...</td>\n",
       "      <td>...</td>\n",
       "      <td>...</td>\n",
       "      <td>...</td>\n",
       "    </tr>\n",
       "    <tr>\n",
       "      <th>78909</th>\n",
       "      <td>2.018245</td>\n",
       "      <td>30206006.0</td>\n",
       "      <td>26.0</td>\n",
       "      <td>0</td>\n",
       "      <td>56.0</td>\n",
       "      <td>3.000000</td>\n",
       "      <td>800.00</td>\n",
       "      <td>1670798778</td>\n",
       "      <td>646.000000</td>\n",
       "      <td>6.470800</td>\n",
       "    </tr>\n",
       "    <tr>\n",
       "      <th>100589</th>\n",
       "      <td>12.080353</td>\n",
       "      <td>30342192.0</td>\n",
       "      <td>32.0</td>\n",
       "      <td>0</td>\n",
       "      <td>41.0</td>\n",
       "      <td>0.970000</td>\n",
       "      <td>1268.00</td>\n",
       "      <td>611993</td>\n",
       "      <td>951.000000</td>\n",
       "      <td>6.857514</td>\n",
       "    </tr>\n",
       "    <tr>\n",
       "      <th>129949</th>\n",
       "      <td>50.354646</td>\n",
       "      <td>30199065.0</td>\n",
       "      <td>26.0</td>\n",
       "      <td>2</td>\n",
       "      <td>10.0</td>\n",
       "      <td>2.000000</td>\n",
       "      <td>1000.00</td>\n",
       "      <td>1332077137</td>\n",
       "      <td>602.000000</td>\n",
       "      <td>6.400257</td>\n",
       "    </tr>\n",
       "    <tr>\n",
       "      <th>73330</th>\n",
       "      <td>1.534746</td>\n",
       "      <td>30213686.0</td>\n",
       "      <td>78.0</td>\n",
       "      <td>0</td>\n",
       "      <td>10.0</td>\n",
       "      <td>6.000000</td>\n",
       "      <td>1980.75</td>\n",
       "      <td>640665</td>\n",
       "      <td>751.000000</td>\n",
       "      <td>6.621406</td>\n",
       "    </tr>\n",
       "    <tr>\n",
       "      <th>140620</th>\n",
       "      <td>54.309698</td>\n",
       "      <td>30209332.0</td>\n",
       "      <td>27.0</td>\n",
       "      <td>2</td>\n",
       "      <td>10.0</td>\n",
       "      <td>2.500000</td>\n",
       "      <td>1250.00</td>\n",
       "      <td>164141591</td>\n",
       "      <td>623.000000</td>\n",
       "      <td>6.434547</td>\n",
       "    </tr>\n",
       "  </tbody>\n",
       "</table>\n",
       "<p>50460 rows × 10 columns</p>\n",
       "</div>"
      ],
      "text/plain": [
       "        quantity tons    customer  country  item type  application  thickness  \\\n",
       "146439      22.072053  30205825.0     25.0          0         10.0   1.250000   \n",
       "44033       65.368039  30157111.0     78.0          0         41.0   0.880000   \n",
       "49435        4.977580  30232042.0     28.0          0         41.0   0.500000   \n",
       "152661     151.450919  30202645.0     32.0          0         10.0   1.291464   \n",
       "97396       26.558580  30272192.0     28.0          2         41.0   0.550000   \n",
       "...               ...         ...      ...        ...          ...        ...   \n",
       "78909        2.018245  30206006.0     26.0          0         56.0   3.000000   \n",
       "100589      12.080353  30342192.0     32.0          0         41.0   0.970000   \n",
       "129949      50.354646  30199065.0     26.0          2         10.0   2.000000   \n",
       "73330        1.534746  30213686.0     78.0          0         10.0   6.000000   \n",
       "140620      54.309698  30209332.0     27.0          2         10.0   2.500000   \n",
       "\n",
       "          width  product_ref  selling_price  selling_price_log  \n",
       "146439  1705.00   1693867550     595.000000           6.388561  \n",
       "44033   1500.00       611993     986.000000           6.893656  \n",
       "49435   1250.00       611993    1075.000000           6.980076  \n",
       "152661  1295.00       628377     861.447147           6.758572  \n",
       "97396   1250.00       611993    1018.000000           6.925595  \n",
       "...         ...          ...            ...                ...  \n",
       "78909    800.00   1670798778     646.000000           6.470800  \n",
       "100589  1268.00       611993     951.000000           6.857514  \n",
       "129949  1000.00   1332077137     602.000000           6.400257  \n",
       "73330   1980.75       640665     751.000000           6.621406  \n",
       "140620  1250.00    164141591     623.000000           6.434547  \n",
       "\n",
       "[50460 rows x 10 columns]"
      ]
     },
     "execution_count": 86,
     "metadata": {},
     "output_type": "execute_result"
    }
   ],
   "source": [
    "x_test"
   ]
  },
  {
   "cell_type": "code",
   "execution_count": 165,
   "id": "359913e2",
   "metadata": {},
   "outputs": [],
   "source": [
    "rf =  RandomForestClassifier()\n",
    "dtr = DecisionTreeClassifier()\n",
    "knn = KNeighborsClassifier()\n",
    "\n",
    "models = [rf, dtr, knn]\n",
    "metrics_list = []\n",
    "\n",
    "for model in models:\n",
    "    model.fit(x_train, y_train)\n",
    "    y_pred_train = model.predict(x_train)\n",
    "    y_pred_test = model.predict(x_test)\n",
    "\n",
    "    accuracy_train = metrics.accuracy_score(y_train, y_pred_train)\n",
    "    accuracy_test = metrics.accuracy_score(y_test, y_pred_test)\n",
    "    accuracy_metrics = {'Algorithm'    : str(model).split('(')[0],\n",
    "                        'Accuracy_Train': accuracy_train,\n",
    "                        'Accuracy_Test' : accuracy_test}\n",
    "\n",
    "    metrics_list.append(accuracy_metrics)"
   ]
  },
  {
   "cell_type": "code",
   "execution_count": 166,
   "id": "3c9f11cb",
   "metadata": {},
   "outputs": [
    {
     "data": {
      "text/html": [
       "<div>\n",
       "<style scoped>\n",
       "    .dataframe tbody tr th:only-of-type {\n",
       "        vertical-align: middle;\n",
       "    }\n",
       "\n",
       "    .dataframe tbody tr th {\n",
       "        vertical-align: top;\n",
       "    }\n",
       "\n",
       "    .dataframe thead th {\n",
       "        text-align: right;\n",
       "    }\n",
       "</style>\n",
       "<table border=\"1\" class=\"dataframe\">\n",
       "  <thead>\n",
       "    <tr style=\"text-align: right;\">\n",
       "      <th></th>\n",
       "      <th>Algorithm</th>\n",
       "      <th>Accuracy_Train</th>\n",
       "      <th>Accuracy_Test</th>\n",
       "    </tr>\n",
       "  </thead>\n",
       "  <tbody>\n",
       "    <tr>\n",
       "      <th>0</th>\n",
       "      <td>RandomForestClassifier</td>\n",
       "      <td>0.999932</td>\n",
       "      <td>0.939160</td>\n",
       "    </tr>\n",
       "    <tr>\n",
       "      <th>1</th>\n",
       "      <td>DecisionTreeClassifier</td>\n",
       "      <td>0.999932</td>\n",
       "      <td>0.912802</td>\n",
       "    </tr>\n",
       "    <tr>\n",
       "      <th>2</th>\n",
       "      <td>KNeighborsClassifier</td>\n",
       "      <td>0.935458</td>\n",
       "      <td>0.898197</td>\n",
       "    </tr>\n",
       "  </tbody>\n",
       "</table>\n",
       "</div>"
      ],
      "text/plain": [
       "                Algorithm  Accuracy_Train  Accuracy_Test\n",
       "0  RandomForestClassifier        0.999932       0.939160\n",
       "1  DecisionTreeClassifier        0.999932       0.912802\n",
       "2    KNeighborsClassifier        0.935458       0.898197"
      ]
     },
     "execution_count": 166,
     "metadata": {},
     "output_type": "execute_result"
    }
   ],
   "source": [
    "Best_cls_model =pd.DataFrame(metrics_list)\n",
    "Best_cls_model"
   ]
  },
  {
   "cell_type": "code",
   "execution_count": 167,
   "id": "09f38fd9",
   "metadata": {},
   "outputs": [
    {
     "name": "stdout",
     "output_type": "stream",
     "text": [
      "Fitting 5 folds for each of 81 candidates, totalling 405 fits\n",
      "Best Cross-validated Parameters:  {'max_depth': None, 'max_features': 'sqrt', 'min_samples_split': 2, 'n_estimators': 200}\n",
      "Best Cross-validated Score:  0.9354159474854887\n"
     ]
    }
   ],
   "source": [
    "from sklearn.model_selection import GridSearchCV\n",
    "from sklearn.ensemble import RandomForestClassifier\n",
    "\n",
    "param_grid = {\n",
    "    'n_estimators': [50, 100, 200],\n",
    "    'max_features': [None, 'sqrt', 'log2'],\n",
    "    'max_depth': [None, 10, 20],\n",
    "    'min_samples_split': [2, 4, 8],\n",
    "}\n",
    "\n",
    "rf = RandomForestClassifier()\n",
    "x_train, x_test, y_train, y_test = train_test_split( X_train_resample, y_train_resample, test_size=0.30, random_state=42)\n",
    "\n",
    "grid_search = GridSearchCV(estimator=rf, param_grid=param_grid, cv=5,n_jobs=-1, verbose=3)\n",
    "grid_search.fit(x_train, y_train)\n",
    "\n",
    "print(\"Best Cross-validated Parameters: \", grid_search.best_params_)\n",
    "print(\"Best Cross-validated Score: \", grid_search.best_score_)"
   ]
  },
  {
   "cell_type": "code",
   "execution_count": 87,
   "id": "b6494da3",
   "metadata": {},
   "outputs": [
    {
     "data": {
      "text/html": [
       "<style>#sk-container-id-1 {color: black;}#sk-container-id-1 pre{padding: 0;}#sk-container-id-1 div.sk-toggleable {background-color: white;}#sk-container-id-1 label.sk-toggleable__label {cursor: pointer;display: block;width: 100%;margin-bottom: 0;padding: 0.3em;box-sizing: border-box;text-align: center;}#sk-container-id-1 label.sk-toggleable__label-arrow:before {content: \"▸\";float: left;margin-right: 0.25em;color: #696969;}#sk-container-id-1 label.sk-toggleable__label-arrow:hover:before {color: black;}#sk-container-id-1 div.sk-estimator:hover label.sk-toggleable__label-arrow:before {color: black;}#sk-container-id-1 div.sk-toggleable__content {max-height: 0;max-width: 0;overflow: hidden;text-align: left;background-color: #f0f8ff;}#sk-container-id-1 div.sk-toggleable__content pre {margin: 0.2em;color: black;border-radius: 0.25em;background-color: #f0f8ff;}#sk-container-id-1 input.sk-toggleable__control:checked~div.sk-toggleable__content {max-height: 200px;max-width: 100%;overflow: auto;}#sk-container-id-1 input.sk-toggleable__control:checked~label.sk-toggleable__label-arrow:before {content: \"▾\";}#sk-container-id-1 div.sk-estimator input.sk-toggleable__control:checked~label.sk-toggleable__label {background-color: #d4ebff;}#sk-container-id-1 div.sk-label input.sk-toggleable__control:checked~label.sk-toggleable__label {background-color: #d4ebff;}#sk-container-id-1 input.sk-hidden--visually {border: 0;clip: rect(1px 1px 1px 1px);clip: rect(1px, 1px, 1px, 1px);height: 1px;margin: -1px;overflow: hidden;padding: 0;position: absolute;width: 1px;}#sk-container-id-1 div.sk-estimator {font-family: monospace;background-color: #f0f8ff;border: 1px dotted black;border-radius: 0.25em;box-sizing: border-box;margin-bottom: 0.5em;}#sk-container-id-1 div.sk-estimator:hover {background-color: #d4ebff;}#sk-container-id-1 div.sk-parallel-item::after {content: \"\";width: 100%;border-bottom: 1px solid gray;flex-grow: 1;}#sk-container-id-1 div.sk-label:hover label.sk-toggleable__label {background-color: #d4ebff;}#sk-container-id-1 div.sk-serial::before {content: \"\";position: absolute;border-left: 1px solid gray;box-sizing: border-box;top: 0;bottom: 0;left: 50%;z-index: 0;}#sk-container-id-1 div.sk-serial {display: flex;flex-direction: column;align-items: center;background-color: white;padding-right: 0.2em;padding-left: 0.2em;position: relative;}#sk-container-id-1 div.sk-item {position: relative;z-index: 1;}#sk-container-id-1 div.sk-parallel {display: flex;align-items: stretch;justify-content: center;background-color: white;position: relative;}#sk-container-id-1 div.sk-item::before, #sk-container-id-1 div.sk-parallel-item::before {content: \"\";position: absolute;border-left: 1px solid gray;box-sizing: border-box;top: 0;bottom: 0;left: 50%;z-index: -1;}#sk-container-id-1 div.sk-parallel-item {display: flex;flex-direction: column;z-index: 1;position: relative;background-color: white;}#sk-container-id-1 div.sk-parallel-item:first-child::after {align-self: flex-end;width: 50%;}#sk-container-id-1 div.sk-parallel-item:last-child::after {align-self: flex-start;width: 50%;}#sk-container-id-1 div.sk-parallel-item:only-child::after {width: 0;}#sk-container-id-1 div.sk-dashed-wrapped {border: 1px dashed gray;margin: 0 0.4em 0.5em 0.4em;box-sizing: border-box;padding-bottom: 0.4em;background-color: white;}#sk-container-id-1 div.sk-label label {font-family: monospace;font-weight: bold;display: inline-block;line-height: 1.2em;}#sk-container-id-1 div.sk-label-container {text-align: center;}#sk-container-id-1 div.sk-container {/* jupyter's `normalize.less` sets `[hidden] { display: none; }` but bootstrap.min.css set `[hidden] { display: none !important; }` so we also need the `!important` here to be able to override the default hidden behavior on the sphinx rendered scikit-learn.org. See: https://github.com/scikit-learn/scikit-learn/issues/21755 */display: inline-block !important;position: relative;}#sk-container-id-1 div.sk-text-repr-fallback {display: none;}</style><div id=\"sk-container-id-1\" class=\"sk-top-container\"><div class=\"sk-text-repr-fallback\"><pre>RandomForestClassifier(n_estimators=200)</pre><b>In a Jupyter environment, please rerun this cell to show the HTML representation or trust the notebook. <br />On GitHub, the HTML representation is unable to render, please try loading this page with nbviewer.org.</b></div><div class=\"sk-container\" hidden><div class=\"sk-item\"><div class=\"sk-estimator sk-toggleable\"><input class=\"sk-toggleable__control sk-hidden--visually\" id=\"sk-estimator-id-1\" type=\"checkbox\" checked><label for=\"sk-estimator-id-1\" class=\"sk-toggleable__label sk-toggleable__label-arrow\">RandomForestClassifier</label><div class=\"sk-toggleable__content\"><pre>RandomForestClassifier(n_estimators=200)</pre></div></div></div></div></div>"
      ],
      "text/plain": [
       "RandomForestClassifier(n_estimators=200)"
      ]
     },
     "execution_count": 87,
     "metadata": {},
     "output_type": "execute_result"
    }
   ],
   "source": [
    "rf_cls = RandomForestClassifier(max_depth = None, max_features = 'sqrt', min_samples_split = 2, n_estimators = 200)\n",
    "rf_cls.fit(x_train, y_train)"
   ]
  },
  {
   "cell_type": "code",
   "execution_count": 88,
   "id": "8c9a460b",
   "metadata": {},
   "outputs": [],
   "source": [
    "x_pred=rf_cls.predict(x_train)"
   ]
  },
  {
   "cell_type": "code",
   "execution_count": 89,
   "id": "a5962248",
   "metadata": {},
   "outputs": [],
   "source": [
    "y_pred=rf_cls.predict(x_test)"
   ]
  },
  {
   "cell_type": "code",
   "execution_count": 90,
   "id": "e8b13cab",
   "metadata": {},
   "outputs": [
    {
     "data": {
      "text/plain": [
       "0.9999320525233995"
      ]
     },
     "execution_count": 90,
     "metadata": {},
     "output_type": "execute_result"
    }
   ],
   "source": [
    "# Training Accuracy\n",
    "metrics.accuracy_score(y_train, x_pred)"
   ]
  },
  {
   "cell_type": "code",
   "execution_count": 91,
   "id": "fd19208b",
   "metadata": {},
   "outputs": [
    {
     "data": {
      "text/plain": [
       "0.9402497027348394"
      ]
     },
     "execution_count": 91,
     "metadata": {},
     "output_type": "execute_result"
    }
   ],
   "source": [
    "# Testing Accuracy\n",
    "metrics.accuracy_score(y_test, y_pred)"
   ]
  },
  {
   "cell_type": "code",
   "execution_count": 92,
   "id": "79a5d5a4",
   "metadata": {},
   "outputs": [
    {
     "name": "stdout",
     "output_type": "stream",
     "text": [
      "Confusion Matrix:\n",
      "[[33346  1430]\n",
      " [ 1585 14099]]\n",
      "Classification Report:\n",
      "              precision    recall  f1-score   support\n",
      "\n",
      "           0       0.95      0.96      0.96     34776\n",
      "           1       0.91      0.90      0.90     15684\n",
      "\n",
      "    accuracy                           0.94     50460\n",
      "   macro avg       0.93      0.93      0.93     50460\n",
      "weighted avg       0.94      0.94      0.94     50460\n",
      "\n"
     ]
    }
   ],
   "source": [
    "# Testing Confution Matrix\n",
    "print(\"Confusion Matrix:\")\n",
    "print(confusion_matrix(y_test, y_pred))\n",
    "print(\"Classification Report:\")\n",
    "print(classification_report(y_test, y_pred))"
   ]
  },
  {
   "cell_type": "code",
   "execution_count": 93,
   "id": "9af6c18c",
   "metadata": {},
   "outputs": [
    {
     "name": "stdout",
     "output_type": "stream",
     "text": [
      "Confusion Matrix:\n",
      "[[81217     6]\n",
      " [    2 36513]]\n",
      "Classification Report:\n",
      "              precision    recall  f1-score   support\n",
      "\n",
      "           0       1.00      1.00      1.00     81223\n",
      "           1       1.00      1.00      1.00     36515\n",
      "\n",
      "    accuracy                           1.00    117738\n",
      "   macro avg       1.00      1.00      1.00    117738\n",
      "weighted avg       1.00      1.00      1.00    117738\n",
      "\n"
     ]
    }
   ],
   "source": [
    "# Training Confusion matrix\n",
    "print(\"Confusion Matrix:\")\n",
    "print(confusion_matrix(y_train, x_pred))\n",
    "print(\"Classification Report:\")\n",
    "print(classification_report(y_train, x_pred))"
   ]
  },
  {
   "cell_type": "code",
   "execution_count": 94,
   "id": "872608d0",
   "metadata": {},
   "outputs": [],
   "source": [
    "import pickle\n",
    "with open('ClassifierModel_Stauts_Predt.pkl', 'wb') as file:\n",
    "    pickle.dump(rf_cls, file)"
   ]
  },
  {
   "cell_type": "code",
   "execution_count": 95,
   "id": "35a2382e",
   "metadata": {},
   "outputs": [],
   "source": [
    "# Loading the  regressor model \n",
    "with open('ClassifierModel_Stauts_Predt.pkl','rb') as file:\n",
    "    reg_cls= pickle.load(file)"
   ]
  },
  {
   "cell_type": "code",
   "execution_count": 96,
   "id": "b622657a",
   "metadata": {},
   "outputs": [
    {
     "data": {
      "text/html": [
       "<div>\n",
       "<style scoped>\n",
       "    .dataframe tbody tr th:only-of-type {\n",
       "        vertical-align: middle;\n",
       "    }\n",
       "\n",
       "    .dataframe tbody tr th {\n",
       "        vertical-align: top;\n",
       "    }\n",
       "\n",
       "    .dataframe thead th {\n",
       "        text-align: right;\n",
       "    }\n",
       "</style>\n",
       "<table border=\"1\" class=\"dataframe\">\n",
       "  <thead>\n",
       "    <tr style=\"text-align: right;\">\n",
       "      <th></th>\n",
       "      <th>quantity tons</th>\n",
       "      <th>customer</th>\n",
       "      <th>country</th>\n",
       "      <th>item type</th>\n",
       "      <th>application</th>\n",
       "      <th>thickness</th>\n",
       "      <th>width</th>\n",
       "      <th>product_ref</th>\n",
       "      <th>selling_price</th>\n",
       "      <th>selling_price_log</th>\n",
       "    </tr>\n",
       "  </thead>\n",
       "  <tbody>\n",
       "    <tr>\n",
       "      <th>0</th>\n",
       "      <td>54.151139</td>\n",
       "      <td>30156308.0</td>\n",
       "      <td>28.0</td>\n",
       "      <td>0</td>\n",
       "      <td>10.0</td>\n",
       "      <td>2.0</td>\n",
       "      <td>1500.0</td>\n",
       "      <td>1670798778</td>\n",
       "      <td>854.0</td>\n",
       "      <td>6.749931</td>\n",
       "    </tr>\n",
       "  </tbody>\n",
       "</table>\n",
       "</div>"
      ],
      "text/plain": [
       "   quantity tons    customer  country  item type  application  thickness  \\\n",
       "0      54.151139  30156308.0     28.0          0         10.0        2.0   \n",
       "\n",
       "    width  product_ref  selling_price  selling_price_log  \n",
       "0  1500.0   1670798778          854.0           6.749931  "
      ]
     },
     "execution_count": 96,
     "metadata": {},
     "output_type": "execute_result"
    }
   ],
   "source": [
    "x.head(1)"
   ]
  },
  {
   "cell_type": "code",
   "execution_count": 97,
   "id": "cd7533cf",
   "metadata": {},
   "outputs": [],
   "source": [
    "array=[[54.151139, 30156308.0, 28.0 , 0 , 10.0,2.00,1500.00,1670798778,854.00,6.749931]]"
   ]
  },
  {
   "cell_type": "code",
   "execution_count": 98,
   "id": "a8b55216",
   "metadata": {},
   "outputs": [
    {
     "data": {
      "text/plain": [
       "[[54.151139,\n",
       "  30156308.0,\n",
       "  28.0,\n",
       "  0,\n",
       "  10.0,\n",
       "  2.0,\n",
       "  1500.0,\n",
       "  1670798778,\n",
       "  854.0,\n",
       "  6.749931]]"
      ]
     },
     "execution_count": 98,
     "metadata": {},
     "output_type": "execute_result"
    }
   ],
   "source": [
    "array"
   ]
  },
  {
   "cell_type": "code",
   "execution_count": 99,
   "id": "d4c9f9b5",
   "metadata": {},
   "outputs": [
    {
     "data": {
      "text/plain": [
       "0    0\n",
       "Name: status, dtype: int64"
      ]
     },
     "execution_count": 99,
     "metadata": {},
     "output_type": "execute_result"
    }
   ],
   "source": [
    "# Actual\n",
    "y.head(1)"
   ]
  },
  {
   "cell_type": "code",
   "execution_count": 100,
   "id": "e3eefb4c",
   "metadata": {},
   "outputs": [
    {
     "name": "stdout",
     "output_type": "stream",
     "text": [
      "[0]\n"
     ]
    }
   ],
   "source": [
    "# Predicted\n",
    "result=reg_cls.predict(array)\n",
    "print(result) "
   ]
  },
  {
   "cell_type": "code",
   "execution_count": 101,
   "id": "1d6b83c9",
   "metadata": {},
   "outputs": [
    {
     "name": "stdout",
     "output_type": "stream",
     "text": [
      "WON\n"
     ]
    }
   ],
   "source": [
    "if result==0:\n",
    "    print(\"WON\")\n",
    "else:\n",
    "    print(\"LOST\")"
   ]
  },
  {
   "cell_type": "markdown",
   "id": "c75685f4",
   "metadata": {},
   "source": [
    "#### Actual Value Is 0(Won) Random Foreset Predict it has 0(Won)"
   ]
  }
 ],
 "metadata": {
  "kernelspec": {
   "display_name": "Python 3 (ipykernel)",
   "language": "python",
   "name": "python3"
  },
  "language_info": {
   "codemirror_mode": {
    "name": "ipython",
    "version": 3
   },
   "file_extension": ".py",
   "mimetype": "text/x-python",
   "name": "python",
   "nbconvert_exporter": "python",
   "pygments_lexer": "ipython3",
   "version": "3.11.5"
  }
 },
 "nbformat": 4,
 "nbformat_minor": 5
}
